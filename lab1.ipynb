{
  "cells": [
    {
      "cell_type": "markdown",
      "metadata": {
        "id": "LYgMMiCokG2u"
      },
      "source": [
        "### Import packages"
      ]
    },
    {
      "cell_type": "code",
      "execution_count": null,
      "metadata": {
        "id": "rLBs1-kZkG2z"
      },
      "outputs": [],
      "source": [
        "\n",
        "import pandas as pd;\n",
        "import matplotlib.pyplot as plt;\n",
        "import numpy as np;"
      ]
    },
    {
      "cell_type": "markdown",
      "metadata": {
        "id": "5ohirFfqkG20"
      },
      "source": [
        "### Load data"
      ]
    },
    {
      "cell_type": "code",
      "execution_count": null,
      "metadata": {
        "id": "46zQHEhdkG21"
      },
      "outputs": [],
      "source": [
        "train = pd.read_csv('train.csv')\n",
        "valid = pd.read_csv('valid.csv')\n"
      ]
    },
    {
      "cell_type": "markdown",
      "metadata": {
        "id": "dUngQqbnkG21"
      },
      "source": [
        "### Describe data"
      ]
    },
    {
      "cell_type": "code",
      "execution_count": null,
      "metadata": {
        "colab": {
          "base_uri": "https://localhost:8080/"
        },
        "id": "YB0pN1sDkG22",
        "outputId": "84772288-8222-4747-8dd4-a6dd73b06959"
      },
      "outputs": [
        {
          "data": {
            "text/plain": [
              "(28520, 260)"
            ]
          },
          "execution_count": 3,
          "metadata": {},
          "output_type": "execute_result"
        }
      ],
      "source": [
        "train.shape"
      ]
    },
    {
      "cell_type": "code",
      "execution_count": null,
      "metadata": {
        "colab": {
          "base_uri": "https://localhost:8080/",
          "height": 255
        },
        "id": "K_W8FDILkG23",
        "outputId": "79304152-27ec-4bfb-9882-a40755f6b728"
      },
      "outputs": [
        {
          "data": {
            "text/html": [
              "\n",
              "  <div id=\"df-0dcbf279-87eb-4e75-b0dd-7a307330ea13\" class=\"colab-df-container\">\n",
              "    <div>\n",
              "<style scoped>\n",
              "    .dataframe tbody tr th:only-of-type {\n",
              "        vertical-align: middle;\n",
              "    }\n",
              "\n",
              "    .dataframe tbody tr th {\n",
              "        vertical-align: top;\n",
              "    }\n",
              "\n",
              "    .dataframe thead th {\n",
              "        text-align: right;\n",
              "    }\n",
              "</style>\n",
              "<table border=\"1\" class=\"dataframe\">\n",
              "  <thead>\n",
              "    <tr style=\"text-align: right;\">\n",
              "      <th></th>\n",
              "      <th>feature_1</th>\n",
              "      <th>feature_2</th>\n",
              "      <th>feature_3</th>\n",
              "      <th>feature_4</th>\n",
              "      <th>feature_5</th>\n",
              "      <th>feature_6</th>\n",
              "      <th>feature_7</th>\n",
              "      <th>feature_8</th>\n",
              "      <th>feature_9</th>\n",
              "      <th>feature_10</th>\n",
              "      <th>...</th>\n",
              "      <th>feature_251</th>\n",
              "      <th>feature_252</th>\n",
              "      <th>feature_253</th>\n",
              "      <th>feature_254</th>\n",
              "      <th>feature_255</th>\n",
              "      <th>feature_256</th>\n",
              "      <th>label_1</th>\n",
              "      <th>label_2</th>\n",
              "      <th>label_3</th>\n",
              "      <th>label_4</th>\n",
              "    </tr>\n",
              "  </thead>\n",
              "  <tbody>\n",
              "    <tr>\n",
              "      <th>0</th>\n",
              "      <td>-1.928826</td>\n",
              "      <td>-0.291540</td>\n",
              "      <td>1.105909</td>\n",
              "      <td>2.070652</td>\n",
              "      <td>0.657838</td>\n",
              "      <td>-0.670940</td>\n",
              "      <td>-0.968238</td>\n",
              "      <td>0.049916</td>\n",
              "      <td>1.111149</td>\n",
              "      <td>-1.834592</td>\n",
              "      <td>...</td>\n",
              "      <td>-0.691538</td>\n",
              "      <td>-1.152522</td>\n",
              "      <td>0.441157</td>\n",
              "      <td>-1.494434</td>\n",
              "      <td>-0.344974</td>\n",
              "      <td>-0.395641</td>\n",
              "      <td>45</td>\n",
              "      <td>NaN</td>\n",
              "      <td>1</td>\n",
              "      <td>6</td>\n",
              "    </tr>\n",
              "    <tr>\n",
              "      <th>1</th>\n",
              "      <td>-1.709277</td>\n",
              "      <td>-1.008998</td>\n",
              "      <td>0.956611</td>\n",
              "      <td>4.313823</td>\n",
              "      <td>-0.669455</td>\n",
              "      <td>1.928765</td>\n",
              "      <td>0.162550</td>\n",
              "      <td>0.152173</td>\n",
              "      <td>2.356505</td>\n",
              "      <td>-2.898549</td>\n",
              "      <td>...</td>\n",
              "      <td>-0.668235</td>\n",
              "      <td>-0.532695</td>\n",
              "      <td>0.151163</td>\n",
              "      <td>-1.876885</td>\n",
              "      <td>1.651534</td>\n",
              "      <td>-2.706490</td>\n",
              "      <td>45</td>\n",
              "      <td>NaN</td>\n",
              "      <td>1</td>\n",
              "      <td>6</td>\n",
              "    </tr>\n",
              "    <tr>\n",
              "      <th>2</th>\n",
              "      <td>-1.906183</td>\n",
              "      <td>-0.357562</td>\n",
              "      <td>-0.682627</td>\n",
              "      <td>4.651838</td>\n",
              "      <td>-0.884940</td>\n",
              "      <td>1.159512</td>\n",
              "      <td>1.354481</td>\n",
              "      <td>-1.432248</td>\n",
              "      <td>2.160144</td>\n",
              "      <td>-3.175735</td>\n",
              "      <td>...</td>\n",
              "      <td>-0.026728</td>\n",
              "      <td>0.440408</td>\n",
              "      <td>2.745906</td>\n",
              "      <td>-0.680754</td>\n",
              "      <td>-0.643588</td>\n",
              "      <td>-2.587203</td>\n",
              "      <td>45</td>\n",
              "      <td>NaN</td>\n",
              "      <td>1</td>\n",
              "      <td>6</td>\n",
              "    </tr>\n",
              "    <tr>\n",
              "      <th>3</th>\n",
              "      <td>0.697872</td>\n",
              "      <td>-2.218567</td>\n",
              "      <td>-0.572214</td>\n",
              "      <td>1.192062</td>\n",
              "      <td>0.329554</td>\n",
              "      <td>0.741364</td>\n",
              "      <td>0.962354</td>\n",
              "      <td>0.993512</td>\n",
              "      <td>2.896854</td>\n",
              "      <td>-1.600380</td>\n",
              "      <td>...</td>\n",
              "      <td>0.709032</td>\n",
              "      <td>0.812106</td>\n",
              "      <td>1.055266</td>\n",
              "      <td>-0.915258</td>\n",
              "      <td>-0.924856</td>\n",
              "      <td>-1.318964</td>\n",
              "      <td>45</td>\n",
              "      <td>NaN</td>\n",
              "      <td>1</td>\n",
              "      <td>6</td>\n",
              "    </tr>\n",
              "    <tr>\n",
              "      <th>4</th>\n",
              "      <td>-1.976895</td>\n",
              "      <td>-0.496308</td>\n",
              "      <td>0.368102</td>\n",
              "      <td>3.739787</td>\n",
              "      <td>-0.132058</td>\n",
              "      <td>1.234980</td>\n",
              "      <td>-0.501003</td>\n",
              "      <td>0.881554</td>\n",
              "      <td>1.630941</td>\n",
              "      <td>-3.853953</td>\n",
              "      <td>...</td>\n",
              "      <td>-0.599700</td>\n",
              "      <td>-1.024829</td>\n",
              "      <td>1.869753</td>\n",
              "      <td>-2.498570</td>\n",
              "      <td>3.268253</td>\n",
              "      <td>-1.356606</td>\n",
              "      <td>45</td>\n",
              "      <td>NaN</td>\n",
              "      <td>1</td>\n",
              "      <td>6</td>\n",
              "    </tr>\n",
              "  </tbody>\n",
              "</table>\n",
              "<p>5 rows × 260 columns</p>\n",
              "</div>\n",
              "    <div class=\"colab-df-buttons\">\n",
              "\n",
              "  <div class=\"colab-df-container\">\n",
              "    <button class=\"colab-df-convert\" onclick=\"convertToInteractive('df-0dcbf279-87eb-4e75-b0dd-7a307330ea13')\"\n",
              "            title=\"Convert this dataframe to an interactive table.\"\n",
              "            style=\"display:none;\">\n",
              "\n",
              "  <svg xmlns=\"http://www.w3.org/2000/svg\" height=\"24px\" viewBox=\"0 -960 960 960\">\n",
              "    <path d=\"M120-120v-720h720v720H120Zm60-500h600v-160H180v160Zm220 220h160v-160H400v160Zm0 220h160v-160H400v160ZM180-400h160v-160H180v160Zm440 0h160v-160H620v160ZM180-180h160v-160H180v160Zm440 0h160v-160H620v160Z\"/>\n",
              "  </svg>\n",
              "    </button>\n",
              "\n",
              "  <style>\n",
              "    .colab-df-container {\n",
              "      display:flex;\n",
              "      gap: 12px;\n",
              "    }\n",
              "\n",
              "    .colab-df-convert {\n",
              "      background-color: #E8F0FE;\n",
              "      border: none;\n",
              "      border-radius: 50%;\n",
              "      cursor: pointer;\n",
              "      display: none;\n",
              "      fill: #1967D2;\n",
              "      height: 32px;\n",
              "      padding: 0 0 0 0;\n",
              "      width: 32px;\n",
              "    }\n",
              "\n",
              "    .colab-df-convert:hover {\n",
              "      background-color: #E2EBFA;\n",
              "      box-shadow: 0px 1px 2px rgba(60, 64, 67, 0.3), 0px 1px 3px 1px rgba(60, 64, 67, 0.15);\n",
              "      fill: #174EA6;\n",
              "    }\n",
              "\n",
              "    .colab-df-buttons div {\n",
              "      margin-bottom: 4px;\n",
              "    }\n",
              "\n",
              "    [theme=dark] .colab-df-convert {\n",
              "      background-color: #3B4455;\n",
              "      fill: #D2E3FC;\n",
              "    }\n",
              "\n",
              "    [theme=dark] .colab-df-convert:hover {\n",
              "      background-color: #434B5C;\n",
              "      box-shadow: 0px 1px 3px 1px rgba(0, 0, 0, 0.15);\n",
              "      filter: drop-shadow(0px 1px 2px rgba(0, 0, 0, 0.3));\n",
              "      fill: #FFFFFF;\n",
              "    }\n",
              "  </style>\n",
              "\n",
              "    <script>\n",
              "      const buttonEl =\n",
              "        document.querySelector('#df-0dcbf279-87eb-4e75-b0dd-7a307330ea13 button.colab-df-convert');\n",
              "      buttonEl.style.display =\n",
              "        google.colab.kernel.accessAllowed ? 'block' : 'none';\n",
              "\n",
              "      async function convertToInteractive(key) {\n",
              "        const element = document.querySelector('#df-0dcbf279-87eb-4e75-b0dd-7a307330ea13');\n",
              "        const dataTable =\n",
              "          await google.colab.kernel.invokeFunction('convertToInteractive',\n",
              "                                                    [key], {});\n",
              "        if (!dataTable) return;\n",
              "\n",
              "        const docLinkHtml = 'Like what you see? Visit the ' +\n",
              "          '<a target=\"_blank\" href=https://colab.research.google.com/notebooks/data_table.ipynb>data table notebook</a>'\n",
              "          + ' to learn more about interactive tables.';\n",
              "        element.innerHTML = '';\n",
              "        dataTable['output_type'] = 'display_data';\n",
              "        await google.colab.output.renderOutput(dataTable, element);\n",
              "        const docLink = document.createElement('div');\n",
              "        docLink.innerHTML = docLinkHtml;\n",
              "        element.appendChild(docLink);\n",
              "      }\n",
              "    </script>\n",
              "  </div>\n",
              "\n",
              "\n",
              "<div id=\"df-4ffab846-ad45-4cd3-bb76-742d52294d46\">\n",
              "  <button class=\"colab-df-quickchart\" onclick=\"quickchart('df-4ffab846-ad45-4cd3-bb76-742d52294d46')\"\n",
              "            title=\"Suggest charts.\"\n",
              "            style=\"display:none;\">\n",
              "\n",
              "<svg xmlns=\"http://www.w3.org/2000/svg\" height=\"24px\"viewBox=\"0 0 24 24\"\n",
              "     width=\"24px\">\n",
              "    <g>\n",
              "        <path d=\"M19 3H5c-1.1 0-2 .9-2 2v14c0 1.1.9 2 2 2h14c1.1 0 2-.9 2-2V5c0-1.1-.9-2-2-2zM9 17H7v-7h2v7zm4 0h-2V7h2v10zm4 0h-2v-4h2v4z\"/>\n",
              "    </g>\n",
              "</svg>\n",
              "  </button>\n",
              "\n",
              "<style>\n",
              "  .colab-df-quickchart {\n",
              "      --bg-color: #E8F0FE;\n",
              "      --fill-color: #1967D2;\n",
              "      --hover-bg-color: #E2EBFA;\n",
              "      --hover-fill-color: #174EA6;\n",
              "      --disabled-fill-color: #AAA;\n",
              "      --disabled-bg-color: #DDD;\n",
              "  }\n",
              "\n",
              "  [theme=dark] .colab-df-quickchart {\n",
              "      --bg-color: #3B4455;\n",
              "      --fill-color: #D2E3FC;\n",
              "      --hover-bg-color: #434B5C;\n",
              "      --hover-fill-color: #FFFFFF;\n",
              "      --disabled-bg-color: #3B4455;\n",
              "      --disabled-fill-color: #666;\n",
              "  }\n",
              "\n",
              "  .colab-df-quickchart {\n",
              "    background-color: var(--bg-color);\n",
              "    border: none;\n",
              "    border-radius: 50%;\n",
              "    cursor: pointer;\n",
              "    display: none;\n",
              "    fill: var(--fill-color);\n",
              "    height: 32px;\n",
              "    padding: 0;\n",
              "    width: 32px;\n",
              "  }\n",
              "\n",
              "  .colab-df-quickchart:hover {\n",
              "    background-color: var(--hover-bg-color);\n",
              "    box-shadow: 0 1px 2px rgba(60, 64, 67, 0.3), 0 1px 3px 1px rgba(60, 64, 67, 0.15);\n",
              "    fill: var(--button-hover-fill-color);\n",
              "  }\n",
              "\n",
              "  .colab-df-quickchart-complete:disabled,\n",
              "  .colab-df-quickchart-complete:disabled:hover {\n",
              "    background-color: var(--disabled-bg-color);\n",
              "    fill: var(--disabled-fill-color);\n",
              "    box-shadow: none;\n",
              "  }\n",
              "\n",
              "  .colab-df-spinner {\n",
              "    border: 2px solid var(--fill-color);\n",
              "    border-color: transparent;\n",
              "    border-bottom-color: var(--fill-color);\n",
              "    animation:\n",
              "      spin 1s steps(1) infinite;\n",
              "  }\n",
              "\n",
              "  @keyframes spin {\n",
              "    0% {\n",
              "      border-color: transparent;\n",
              "      border-bottom-color: var(--fill-color);\n",
              "      border-left-color: var(--fill-color);\n",
              "    }\n",
              "    20% {\n",
              "      border-color: transparent;\n",
              "      border-left-color: var(--fill-color);\n",
              "      border-top-color: var(--fill-color);\n",
              "    }\n",
              "    30% {\n",
              "      border-color: transparent;\n",
              "      border-left-color: var(--fill-color);\n",
              "      border-top-color: var(--fill-color);\n",
              "      border-right-color: var(--fill-color);\n",
              "    }\n",
              "    40% {\n",
              "      border-color: transparent;\n",
              "      border-right-color: var(--fill-color);\n",
              "      border-top-color: var(--fill-color);\n",
              "    }\n",
              "    60% {\n",
              "      border-color: transparent;\n",
              "      border-right-color: var(--fill-color);\n",
              "    }\n",
              "    80% {\n",
              "      border-color: transparent;\n",
              "      border-right-color: var(--fill-color);\n",
              "      border-bottom-color: var(--fill-color);\n",
              "    }\n",
              "    90% {\n",
              "      border-color: transparent;\n",
              "      border-bottom-color: var(--fill-color);\n",
              "    }\n",
              "  }\n",
              "</style>\n",
              "\n",
              "  <script>\n",
              "    async function quickchart(key) {\n",
              "      const quickchartButtonEl =\n",
              "        document.querySelector('#' + key + ' button');\n",
              "      quickchartButtonEl.disabled = true;  // To prevent multiple clicks.\n",
              "      quickchartButtonEl.classList.add('colab-df-spinner');\n",
              "      try {\n",
              "        const charts = await google.colab.kernel.invokeFunction(\n",
              "            'suggestCharts', [key], {});\n",
              "      } catch (error) {\n",
              "        console.error('Error during call to suggestCharts:', error);\n",
              "      }\n",
              "      quickchartButtonEl.classList.remove('colab-df-spinner');\n",
              "      quickchartButtonEl.classList.add('colab-df-quickchart-complete');\n",
              "    }\n",
              "    (() => {\n",
              "      let quickchartButtonEl =\n",
              "        document.querySelector('#df-4ffab846-ad45-4cd3-bb76-742d52294d46 button');\n",
              "      quickchartButtonEl.style.display =\n",
              "        google.colab.kernel.accessAllowed ? 'block' : 'none';\n",
              "    })();\n",
              "  </script>\n",
              "</div>\n",
              "    </div>\n",
              "  </div>\n"
            ],
            "text/plain": [
              "   feature_1  feature_2  feature_3  feature_4  feature_5  feature_6  \\\n",
              "0  -1.928826  -0.291540   1.105909   2.070652   0.657838  -0.670940   \n",
              "1  -1.709277  -1.008998   0.956611   4.313823  -0.669455   1.928765   \n",
              "2  -1.906183  -0.357562  -0.682627   4.651838  -0.884940   1.159512   \n",
              "3   0.697872  -2.218567  -0.572214   1.192062   0.329554   0.741364   \n",
              "4  -1.976895  -0.496308   0.368102   3.739787  -0.132058   1.234980   \n",
              "\n",
              "   feature_7  feature_8  feature_9  feature_10  ...  feature_251  feature_252  \\\n",
              "0  -0.968238   0.049916   1.111149   -1.834592  ...    -0.691538    -1.152522   \n",
              "1   0.162550   0.152173   2.356505   -2.898549  ...    -0.668235    -0.532695   \n",
              "2   1.354481  -1.432248   2.160144   -3.175735  ...    -0.026728     0.440408   \n",
              "3   0.962354   0.993512   2.896854   -1.600380  ...     0.709032     0.812106   \n",
              "4  -0.501003   0.881554   1.630941   -3.853953  ...    -0.599700    -1.024829   \n",
              "\n",
              "   feature_253  feature_254  feature_255  feature_256  label_1  label_2  \\\n",
              "0     0.441157    -1.494434    -0.344974    -0.395641       45      NaN   \n",
              "1     0.151163    -1.876885     1.651534    -2.706490       45      NaN   \n",
              "2     2.745906    -0.680754    -0.643588    -2.587203       45      NaN   \n",
              "3     1.055266    -0.915258    -0.924856    -1.318964       45      NaN   \n",
              "4     1.869753    -2.498570     3.268253    -1.356606       45      NaN   \n",
              "\n",
              "   label_3  label_4  \n",
              "0        1        6  \n",
              "1        1        6  \n",
              "2        1        6  \n",
              "3        1        6  \n",
              "4        1        6  \n",
              "\n",
              "[5 rows x 260 columns]"
            ]
          },
          "execution_count": 4,
          "metadata": {},
          "output_type": "execute_result"
        }
      ],
      "source": [
        "train.head()"
      ]
    },
    {
      "cell_type": "code",
      "execution_count": null,
      "metadata": {
        "colab": {
          "base_uri": "https://localhost:8080/",
          "height": 349
        },
        "id": "cwVOGLNakG24",
        "outputId": "887ec805-acbb-48e2-e79b-217ecd054e7b"
      },
      "outputs": [
        {
          "data": {
            "text/html": [
              "\n",
              "  <div id=\"df-19675625-c583-47fc-8cc2-3a6a036a354d\" class=\"colab-df-container\">\n",
              "    <div>\n",
              "<style scoped>\n",
              "    .dataframe tbody tr th:only-of-type {\n",
              "        vertical-align: middle;\n",
              "    }\n",
              "\n",
              "    .dataframe tbody tr th {\n",
              "        vertical-align: top;\n",
              "    }\n",
              "\n",
              "    .dataframe thead th {\n",
              "        text-align: right;\n",
              "    }\n",
              "</style>\n",
              "<table border=\"1\" class=\"dataframe\">\n",
              "  <thead>\n",
              "    <tr style=\"text-align: right;\">\n",
              "      <th></th>\n",
              "      <th>feature_1</th>\n",
              "      <th>feature_2</th>\n",
              "      <th>feature_3</th>\n",
              "      <th>feature_4</th>\n",
              "      <th>feature_5</th>\n",
              "      <th>feature_6</th>\n",
              "      <th>feature_7</th>\n",
              "      <th>feature_8</th>\n",
              "      <th>feature_9</th>\n",
              "      <th>feature_10</th>\n",
              "      <th>...</th>\n",
              "      <th>feature_251</th>\n",
              "      <th>feature_252</th>\n",
              "      <th>feature_253</th>\n",
              "      <th>feature_254</th>\n",
              "      <th>feature_255</th>\n",
              "      <th>feature_256</th>\n",
              "      <th>label_1</th>\n",
              "      <th>label_2</th>\n",
              "      <th>label_3</th>\n",
              "      <th>label_4</th>\n",
              "    </tr>\n",
              "  </thead>\n",
              "  <tbody>\n",
              "    <tr>\n",
              "      <th>count</th>\n",
              "      <td>28520.000000</td>\n",
              "      <td>28520.000000</td>\n",
              "      <td>28520.000000</td>\n",
              "      <td>28520.000000</td>\n",
              "      <td>28520.000000</td>\n",
              "      <td>28520.000000</td>\n",
              "      <td>28520.000000</td>\n",
              "      <td>28520.000000</td>\n",
              "      <td>28520.000000</td>\n",
              "      <td>28520.000000</td>\n",
              "      <td>...</td>\n",
              "      <td>28520.000000</td>\n",
              "      <td>28520.000000</td>\n",
              "      <td>28520.000000</td>\n",
              "      <td>28520.000000</td>\n",
              "      <td>28520.000000</td>\n",
              "      <td>28520.000000</td>\n",
              "      <td>28520.000000</td>\n",
              "      <td>28040.000000</td>\n",
              "      <td>28520.000000</td>\n",
              "      <td>28520.000000</td>\n",
              "    </tr>\n",
              "    <tr>\n",
              "      <th>mean</th>\n",
              "      <td>-0.225478</td>\n",
              "      <td>-0.616421</td>\n",
              "      <td>-0.212878</td>\n",
              "      <td>0.336330</td>\n",
              "      <td>0.105467</td>\n",
              "      <td>-0.339634</td>\n",
              "      <td>-0.201756</td>\n",
              "      <td>0.742262</td>\n",
              "      <td>0.942325</td>\n",
              "      <td>-1.957584</td>\n",
              "      <td>...</td>\n",
              "      <td>-0.028098</td>\n",
              "      <td>0.296340</td>\n",
              "      <td>1.724439</td>\n",
              "      <td>-1.476765</td>\n",
              "      <td>0.687445</td>\n",
              "      <td>-1.563062</td>\n",
              "      <td>30.498843</td>\n",
              "      <td>27.975107</td>\n",
              "      <td>0.799299</td>\n",
              "      <td>5.997125</td>\n",
              "    </tr>\n",
              "    <tr>\n",
              "      <th>std</th>\n",
              "      <td>0.990632</td>\n",
              "      <td>1.005573</td>\n",
              "      <td>1.075468</td>\n",
              "      <td>1.248919</td>\n",
              "      <td>0.831132</td>\n",
              "      <td>1.073267</td>\n",
              "      <td>0.943505</td>\n",
              "      <td>1.055721</td>\n",
              "      <td>0.940459</td>\n",
              "      <td>0.876939</td>\n",
              "      <td>...</td>\n",
              "      <td>0.989497</td>\n",
              "      <td>1.173378</td>\n",
              "      <td>0.968611</td>\n",
              "      <td>1.032811</td>\n",
              "      <td>1.028328</td>\n",
              "      <td>1.243758</td>\n",
              "      <td>17.328389</td>\n",
              "      <td>5.735913</td>\n",
              "      <td>0.400532</td>\n",
              "      <td>2.375567</td>\n",
              "    </tr>\n",
              "    <tr>\n",
              "      <th>min</th>\n",
              "      <td>-4.023911</td>\n",
              "      <td>-5.582544</td>\n",
              "      <td>-4.679888</td>\n",
              "      <td>-4.284380</td>\n",
              "      <td>-3.010300</td>\n",
              "      <td>-5.034355</td>\n",
              "      <td>-4.355222</td>\n",
              "      <td>-3.806574</td>\n",
              "      <td>-2.922614</td>\n",
              "      <td>-5.203347</td>\n",
              "      <td>...</td>\n",
              "      <td>-3.679602</td>\n",
              "      <td>-3.905801</td>\n",
              "      <td>-3.301683</td>\n",
              "      <td>-5.490267</td>\n",
              "      <td>-3.810144</td>\n",
              "      <td>-6.056032</td>\n",
              "      <td>1.000000</td>\n",
              "      <td>22.000000</td>\n",
              "      <td>0.000000</td>\n",
              "      <td>0.000000</td>\n",
              "    </tr>\n",
              "    <tr>\n",
              "      <th>25%</th>\n",
              "      <td>-0.869656</td>\n",
              "      <td>-1.287018</td>\n",
              "      <td>-0.913419</td>\n",
              "      <td>-0.478661</td>\n",
              "      <td>-0.437171</td>\n",
              "      <td>-1.075753</td>\n",
              "      <td>-0.823699</td>\n",
              "      <td>0.064072</td>\n",
              "      <td>0.298269</td>\n",
              "      <td>-2.556436</td>\n",
              "      <td>...</td>\n",
              "      <td>-0.692262</td>\n",
              "      <td>-0.550897</td>\n",
              "      <td>1.121631</td>\n",
              "      <td>-2.130906</td>\n",
              "      <td>-0.008394</td>\n",
              "      <td>-2.404028</td>\n",
              "      <td>15.000000</td>\n",
              "      <td>25.000000</td>\n",
              "      <td>1.000000</td>\n",
              "      <td>6.000000</td>\n",
              "    </tr>\n",
              "    <tr>\n",
              "      <th>50%</th>\n",
              "      <td>-0.190790</td>\n",
              "      <td>-0.609782</td>\n",
              "      <td>-0.218800</td>\n",
              "      <td>0.295881</td>\n",
              "      <td>0.117310</td>\n",
              "      <td>-0.329571</td>\n",
              "      <td>-0.193263</td>\n",
              "      <td>0.755193</td>\n",
              "      <td>0.940786</td>\n",
              "      <td>-1.949847</td>\n",
              "      <td>...</td>\n",
              "      <td>-0.018218</td>\n",
              "      <td>0.295523</td>\n",
              "      <td>1.783432</td>\n",
              "      <td>-1.449978</td>\n",
              "      <td>0.639575</td>\n",
              "      <td>-1.650610</td>\n",
              "      <td>30.000000</td>\n",
              "      <td>27.000000</td>\n",
              "      <td>1.000000</td>\n",
              "      <td>6.000000</td>\n",
              "    </tr>\n",
              "    <tr>\n",
              "      <th>75%</th>\n",
              "      <td>0.457509</td>\n",
              "      <td>0.063174</td>\n",
              "      <td>0.490262</td>\n",
              "      <td>1.119242</td>\n",
              "      <td>0.657941</td>\n",
              "      <td>0.393339</td>\n",
              "      <td>0.417146</td>\n",
              "      <td>1.461846</td>\n",
              "      <td>1.579200</td>\n",
              "      <td>-1.345999</td>\n",
              "      <td>...</td>\n",
              "      <td>0.644112</td>\n",
              "      <td>1.128566</td>\n",
              "      <td>2.383575</td>\n",
              "      <td>-0.799414</td>\n",
              "      <td>1.347263</td>\n",
              "      <td>-0.805710</td>\n",
              "      <td>46.000000</td>\n",
              "      <td>30.000000</td>\n",
              "      <td>1.000000</td>\n",
              "      <td>6.000000</td>\n",
              "    </tr>\n",
              "    <tr>\n",
              "      <th>max</th>\n",
              "      <td>4.322171</td>\n",
              "      <td>3.876604</td>\n",
              "      <td>4.267163</td>\n",
              "      <td>5.828656</td>\n",
              "      <td>3.884939</td>\n",
              "      <td>3.890622</td>\n",
              "      <td>3.799406</td>\n",
              "      <td>4.817545</td>\n",
              "      <td>4.615069</td>\n",
              "      <td>1.147192</td>\n",
              "      <td>...</td>\n",
              "      <td>3.915582</td>\n",
              "      <td>4.458014</td>\n",
              "      <td>5.261775</td>\n",
              "      <td>2.861117</td>\n",
              "      <td>5.531152</td>\n",
              "      <td>3.338544</td>\n",
              "      <td>60.000000</td>\n",
              "      <td>61.000000</td>\n",
              "      <td>1.000000</td>\n",
              "      <td>13.000000</td>\n",
              "    </tr>\n",
              "  </tbody>\n",
              "</table>\n",
              "<p>8 rows × 260 columns</p>\n",
              "</div>\n",
              "    <div class=\"colab-df-buttons\">\n",
              "\n",
              "  <div class=\"colab-df-container\">\n",
              "    <button class=\"colab-df-convert\" onclick=\"convertToInteractive('df-19675625-c583-47fc-8cc2-3a6a036a354d')\"\n",
              "            title=\"Convert this dataframe to an interactive table.\"\n",
              "            style=\"display:none;\">\n",
              "\n",
              "  <svg xmlns=\"http://www.w3.org/2000/svg\" height=\"24px\" viewBox=\"0 -960 960 960\">\n",
              "    <path d=\"M120-120v-720h720v720H120Zm60-500h600v-160H180v160Zm220 220h160v-160H400v160Zm0 220h160v-160H400v160ZM180-400h160v-160H180v160Zm440 0h160v-160H620v160ZM180-180h160v-160H180v160Zm440 0h160v-160H620v160Z\"/>\n",
              "  </svg>\n",
              "    </button>\n",
              "\n",
              "  <style>\n",
              "    .colab-df-container {\n",
              "      display:flex;\n",
              "      gap: 12px;\n",
              "    }\n",
              "\n",
              "    .colab-df-convert {\n",
              "      background-color: #E8F0FE;\n",
              "      border: none;\n",
              "      border-radius: 50%;\n",
              "      cursor: pointer;\n",
              "      display: none;\n",
              "      fill: #1967D2;\n",
              "      height: 32px;\n",
              "      padding: 0 0 0 0;\n",
              "      width: 32px;\n",
              "    }\n",
              "\n",
              "    .colab-df-convert:hover {\n",
              "      background-color: #E2EBFA;\n",
              "      box-shadow: 0px 1px 2px rgba(60, 64, 67, 0.3), 0px 1px 3px 1px rgba(60, 64, 67, 0.15);\n",
              "      fill: #174EA6;\n",
              "    }\n",
              "\n",
              "    .colab-df-buttons div {\n",
              "      margin-bottom: 4px;\n",
              "    }\n",
              "\n",
              "    [theme=dark] .colab-df-convert {\n",
              "      background-color: #3B4455;\n",
              "      fill: #D2E3FC;\n",
              "    }\n",
              "\n",
              "    [theme=dark] .colab-df-convert:hover {\n",
              "      background-color: #434B5C;\n",
              "      box-shadow: 0px 1px 3px 1px rgba(0, 0, 0, 0.15);\n",
              "      filter: drop-shadow(0px 1px 2px rgba(0, 0, 0, 0.3));\n",
              "      fill: #FFFFFF;\n",
              "    }\n",
              "  </style>\n",
              "\n",
              "    <script>\n",
              "      const buttonEl =\n",
              "        document.querySelector('#df-19675625-c583-47fc-8cc2-3a6a036a354d button.colab-df-convert');\n",
              "      buttonEl.style.display =\n",
              "        google.colab.kernel.accessAllowed ? 'block' : 'none';\n",
              "\n",
              "      async function convertToInteractive(key) {\n",
              "        const element = document.querySelector('#df-19675625-c583-47fc-8cc2-3a6a036a354d');\n",
              "        const dataTable =\n",
              "          await google.colab.kernel.invokeFunction('convertToInteractive',\n",
              "                                                    [key], {});\n",
              "        if (!dataTable) return;\n",
              "\n",
              "        const docLinkHtml = 'Like what you see? Visit the ' +\n",
              "          '<a target=\"_blank\" href=https://colab.research.google.com/notebooks/data_table.ipynb>data table notebook</a>'\n",
              "          + ' to learn more about interactive tables.';\n",
              "        element.innerHTML = '';\n",
              "        dataTable['output_type'] = 'display_data';\n",
              "        await google.colab.output.renderOutput(dataTable, element);\n",
              "        const docLink = document.createElement('div');\n",
              "        docLink.innerHTML = docLinkHtml;\n",
              "        element.appendChild(docLink);\n",
              "      }\n",
              "    </script>\n",
              "  </div>\n",
              "\n",
              "\n",
              "<div id=\"df-fae8979b-3ee6-4f8d-8452-a326c5418dae\">\n",
              "  <button class=\"colab-df-quickchart\" onclick=\"quickchart('df-fae8979b-3ee6-4f8d-8452-a326c5418dae')\"\n",
              "            title=\"Suggest charts.\"\n",
              "            style=\"display:none;\">\n",
              "\n",
              "<svg xmlns=\"http://www.w3.org/2000/svg\" height=\"24px\"viewBox=\"0 0 24 24\"\n",
              "     width=\"24px\">\n",
              "    <g>\n",
              "        <path d=\"M19 3H5c-1.1 0-2 .9-2 2v14c0 1.1.9 2 2 2h14c1.1 0 2-.9 2-2V5c0-1.1-.9-2-2-2zM9 17H7v-7h2v7zm4 0h-2V7h2v10zm4 0h-2v-4h2v4z\"/>\n",
              "    </g>\n",
              "</svg>\n",
              "  </button>\n",
              "\n",
              "<style>\n",
              "  .colab-df-quickchart {\n",
              "      --bg-color: #E8F0FE;\n",
              "      --fill-color: #1967D2;\n",
              "      --hover-bg-color: #E2EBFA;\n",
              "      --hover-fill-color: #174EA6;\n",
              "      --disabled-fill-color: #AAA;\n",
              "      --disabled-bg-color: #DDD;\n",
              "  }\n",
              "\n",
              "  [theme=dark] .colab-df-quickchart {\n",
              "      --bg-color: #3B4455;\n",
              "      --fill-color: #D2E3FC;\n",
              "      --hover-bg-color: #434B5C;\n",
              "      --hover-fill-color: #FFFFFF;\n",
              "      --disabled-bg-color: #3B4455;\n",
              "      --disabled-fill-color: #666;\n",
              "  }\n",
              "\n",
              "  .colab-df-quickchart {\n",
              "    background-color: var(--bg-color);\n",
              "    border: none;\n",
              "    border-radius: 50%;\n",
              "    cursor: pointer;\n",
              "    display: none;\n",
              "    fill: var(--fill-color);\n",
              "    height: 32px;\n",
              "    padding: 0;\n",
              "    width: 32px;\n",
              "  }\n",
              "\n",
              "  .colab-df-quickchart:hover {\n",
              "    background-color: var(--hover-bg-color);\n",
              "    box-shadow: 0 1px 2px rgba(60, 64, 67, 0.3), 0 1px 3px 1px rgba(60, 64, 67, 0.15);\n",
              "    fill: var(--button-hover-fill-color);\n",
              "  }\n",
              "\n",
              "  .colab-df-quickchart-complete:disabled,\n",
              "  .colab-df-quickchart-complete:disabled:hover {\n",
              "    background-color: var(--disabled-bg-color);\n",
              "    fill: var(--disabled-fill-color);\n",
              "    box-shadow: none;\n",
              "  }\n",
              "\n",
              "  .colab-df-spinner {\n",
              "    border: 2px solid var(--fill-color);\n",
              "    border-color: transparent;\n",
              "    border-bottom-color: var(--fill-color);\n",
              "    animation:\n",
              "      spin 1s steps(1) infinite;\n",
              "  }\n",
              "\n",
              "  @keyframes spin {\n",
              "    0% {\n",
              "      border-color: transparent;\n",
              "      border-bottom-color: var(--fill-color);\n",
              "      border-left-color: var(--fill-color);\n",
              "    }\n",
              "    20% {\n",
              "      border-color: transparent;\n",
              "      border-left-color: var(--fill-color);\n",
              "      border-top-color: var(--fill-color);\n",
              "    }\n",
              "    30% {\n",
              "      border-color: transparent;\n",
              "      border-left-color: var(--fill-color);\n",
              "      border-top-color: var(--fill-color);\n",
              "      border-right-color: var(--fill-color);\n",
              "    }\n",
              "    40% {\n",
              "      border-color: transparent;\n",
              "      border-right-color: var(--fill-color);\n",
              "      border-top-color: var(--fill-color);\n",
              "    }\n",
              "    60% {\n",
              "      border-color: transparent;\n",
              "      border-right-color: var(--fill-color);\n",
              "    }\n",
              "    80% {\n",
              "      border-color: transparent;\n",
              "      border-right-color: var(--fill-color);\n",
              "      border-bottom-color: var(--fill-color);\n",
              "    }\n",
              "    90% {\n",
              "      border-color: transparent;\n",
              "      border-bottom-color: var(--fill-color);\n",
              "    }\n",
              "  }\n",
              "</style>\n",
              "\n",
              "  <script>\n",
              "    async function quickchart(key) {\n",
              "      const quickchartButtonEl =\n",
              "        document.querySelector('#' + key + ' button');\n",
              "      quickchartButtonEl.disabled = true;  // To prevent multiple clicks.\n",
              "      quickchartButtonEl.classList.add('colab-df-spinner');\n",
              "      try {\n",
              "        const charts = await google.colab.kernel.invokeFunction(\n",
              "            'suggestCharts', [key], {});\n",
              "      } catch (error) {\n",
              "        console.error('Error during call to suggestCharts:', error);\n",
              "      }\n",
              "      quickchartButtonEl.classList.remove('colab-df-spinner');\n",
              "      quickchartButtonEl.classList.add('colab-df-quickchart-complete');\n",
              "    }\n",
              "    (() => {\n",
              "      let quickchartButtonEl =\n",
              "        document.querySelector('#df-fae8979b-3ee6-4f8d-8452-a326c5418dae button');\n",
              "      quickchartButtonEl.style.display =\n",
              "        google.colab.kernel.accessAllowed ? 'block' : 'none';\n",
              "    })();\n",
              "  </script>\n",
              "</div>\n",
              "    </div>\n",
              "  </div>\n"
            ],
            "text/plain": [
              "          feature_1     feature_2     feature_3     feature_4     feature_5  \\\n",
              "count  28520.000000  28520.000000  28520.000000  28520.000000  28520.000000   \n",
              "mean      -0.225478     -0.616421     -0.212878      0.336330      0.105467   \n",
              "std        0.990632      1.005573      1.075468      1.248919      0.831132   \n",
              "min       -4.023911     -5.582544     -4.679888     -4.284380     -3.010300   \n",
              "25%       -0.869656     -1.287018     -0.913419     -0.478661     -0.437171   \n",
              "50%       -0.190790     -0.609782     -0.218800      0.295881      0.117310   \n",
              "75%        0.457509      0.063174      0.490262      1.119242      0.657941   \n",
              "max        4.322171      3.876604      4.267163      5.828656      3.884939   \n",
              "\n",
              "          feature_6     feature_7     feature_8     feature_9    feature_10  \\\n",
              "count  28520.000000  28520.000000  28520.000000  28520.000000  28520.000000   \n",
              "mean      -0.339634     -0.201756      0.742262      0.942325     -1.957584   \n",
              "std        1.073267      0.943505      1.055721      0.940459      0.876939   \n",
              "min       -5.034355     -4.355222     -3.806574     -2.922614     -5.203347   \n",
              "25%       -1.075753     -0.823699      0.064072      0.298269     -2.556436   \n",
              "50%       -0.329571     -0.193263      0.755193      0.940786     -1.949847   \n",
              "75%        0.393339      0.417146      1.461846      1.579200     -1.345999   \n",
              "max        3.890622      3.799406      4.817545      4.615069      1.147192   \n",
              "\n",
              "       ...   feature_251   feature_252   feature_253   feature_254  \\\n",
              "count  ...  28520.000000  28520.000000  28520.000000  28520.000000   \n",
              "mean   ...     -0.028098      0.296340      1.724439     -1.476765   \n",
              "std    ...      0.989497      1.173378      0.968611      1.032811   \n",
              "min    ...     -3.679602     -3.905801     -3.301683     -5.490267   \n",
              "25%    ...     -0.692262     -0.550897      1.121631     -2.130906   \n",
              "50%    ...     -0.018218      0.295523      1.783432     -1.449978   \n",
              "75%    ...      0.644112      1.128566      2.383575     -0.799414   \n",
              "max    ...      3.915582      4.458014      5.261775      2.861117   \n",
              "\n",
              "        feature_255   feature_256       label_1       label_2       label_3  \\\n",
              "count  28520.000000  28520.000000  28520.000000  28040.000000  28520.000000   \n",
              "mean       0.687445     -1.563062     30.498843     27.975107      0.799299   \n",
              "std        1.028328      1.243758     17.328389      5.735913      0.400532   \n",
              "min       -3.810144     -6.056032      1.000000     22.000000      0.000000   \n",
              "25%       -0.008394     -2.404028     15.000000     25.000000      1.000000   \n",
              "50%        0.639575     -1.650610     30.000000     27.000000      1.000000   \n",
              "75%        1.347263     -0.805710     46.000000     30.000000      1.000000   \n",
              "max        5.531152      3.338544     60.000000     61.000000      1.000000   \n",
              "\n",
              "            label_4  \n",
              "count  28520.000000  \n",
              "mean       5.997125  \n",
              "std        2.375567  \n",
              "min        0.000000  \n",
              "25%        6.000000  \n",
              "50%        6.000000  \n",
              "75%        6.000000  \n",
              "max       13.000000  \n",
              "\n",
              "[8 rows x 260 columns]"
            ]
          },
          "execution_count": 5,
          "metadata": {},
          "output_type": "execute_result"
        }
      ],
      "source": [
        "train.describe(include='all')\n"
      ]
    },
    {
      "cell_type": "markdown",
      "metadata": {
        "id": "M7F_YtE5kG24"
      },
      "source": [
        "### Handle missing values\n"
      ]
    },
    {
      "cell_type": "code",
      "execution_count": null,
      "metadata": {
        "id": "lbvli4LCkG25"
      },
      "outputs": [],
      "source": [
        "columns = train.columns.values\n",
        "labels = columns[-4:]\n",
        "features = columns[:-4]\n",
        "\n"
      ]
    },
    {
      "cell_type": "code",
      "execution_count": null,
      "metadata": {
        "colab": {
          "base_uri": "https://localhost:8080/"
        },
        "id": "yG0xHEKnkG25",
        "outputId": "e60bd655-e322-47a6-eb8b-8fc8b69c12c2"
      },
      "outputs": [
        {
          "data": {
            "text/plain": [
              "label_1      0\n",
              "label_2    480\n",
              "label_3      0\n",
              "label_4      0\n",
              "dtype: int64"
            ]
          },
          "execution_count": 7,
          "metadata": {},
          "output_type": "execute_result"
        }
      ],
      "source": [
        "train[labels].isnull().sum()"
      ]
    },
    {
      "cell_type": "code",
      "execution_count": null,
      "metadata": {
        "colab": {
          "base_uri": "https://localhost:8080/"
        },
        "id": "vdFCodCekG26",
        "outputId": "d3c5dbf7-eb46-4339-e8e5-70e4f9dd5de1"
      },
      "outputs": [
        {
          "data": {
            "text/plain": [
              "label_1     0\n",
              "label_2    14\n",
              "label_3     0\n",
              "label_4     0\n",
              "dtype: int64"
            ]
          },
          "execution_count": 8,
          "metadata": {},
          "output_type": "execute_result"
        }
      ],
      "source": [
        "valid[labels].isnull().sum()"
      ]
    },
    {
      "cell_type": "code",
      "execution_count": null,
      "metadata": {
        "id": "cWbmjngwkG26"
      },
      "outputs": [],
      "source": [
        "from sklearn.impute import SimpleImputer\n",
        "\n",
        "# missing values are imputed with the median value\n",
        "imp = SimpleImputer(missing_values=np.nan, strategy='median')\n",
        "imp.fit(train[labels])\n",
        "imp.fit(valid[labels])\n",
        "train[labels] = imp.transform(train[labels])\n",
        "valid[labels] =imp.transform(valid[labels])\n"
      ]
    },
    {
      "cell_type": "code",
      "execution_count": null,
      "metadata": {
        "colab": {
          "base_uri": "https://localhost:8080/"
        },
        "id": "omBYT5hikG26",
        "outputId": "b369ef97-77ae-4dfc-b722-b5867514aa45"
      },
      "outputs": [
        {
          "data": {
            "text/plain": [
              "label_1    0\n",
              "label_2    0\n",
              "label_3    0\n",
              "label_4    0\n",
              "dtype: int64"
            ]
          },
          "execution_count": 10,
          "metadata": {},
          "output_type": "execute_result"
        }
      ],
      "source": [
        "train[labels].isnull().sum()"
      ]
    },
    {
      "cell_type": "code",
      "execution_count": null,
      "metadata": {
        "colab": {
          "base_uri": "https://localhost:8080/"
        },
        "id": "bfr06jkPkG27",
        "outputId": "d6e21cfe-ee7d-4a5d-bf04-8c838d07cd40"
      },
      "outputs": [
        {
          "data": {
            "text/plain": [
              "label_1    0\n",
              "label_2    0\n",
              "label_3    0\n",
              "label_4    0\n",
              "dtype: int64"
            ]
          },
          "execution_count": 11,
          "metadata": {},
          "output_type": "execute_result"
        }
      ],
      "source": [
        "valid[labels].isnull().sum()\n"
      ]
    },
    {
      "cell_type": "code",
      "execution_count": null,
      "metadata": {
        "id": "o_5H1VVZkG27"
      },
      "outputs": [],
      "source": [
        "X_train = train[features]\n",
        "Y_train = train[labels]\n",
        "X_valid = valid[features]\n",
        "Y_valid = valid[labels]"
      ]
    },
    {
      "cell_type": "markdown",
      "metadata": {
        "id": "KVkzoOVjkG27"
      },
      "source": [
        "### Removing features with low variance"
      ]
    },
    {
      "cell_type": "code",
      "execution_count": null,
      "metadata": {
        "colab": {
          "base_uri": "https://localhost:8080/"
        },
        "id": "BtqKZwUfkG27",
        "outputId": "3c7f50eb-edf2-4d8c-def5-c4b12ffd2634"
      },
      "outputs": [
        {
          "data": {
            "text/plain": [
              "((28520, 256), (750, 256))"
            ]
          },
          "execution_count": 13,
          "metadata": {},
          "output_type": "execute_result"
        }
      ],
      "source": [
        "from sklearn.feature_selection import VarianceThreshold\n",
        "threshold = VarianceThreshold(threshold=1)\n",
        "threshold.fit_transform(X_train)\n",
        "threshold.fit_transform(X_valid)\n",
        "X_train.shape, X_valid.shape"
      ]
    },
    {
      "cell_type": "markdown",
      "metadata": {
        "id": "D5AQBx8RkG28"
      },
      "source": [
        "##### no columns were removed"
      ]
    },
    {
      "cell_type": "markdown",
      "metadata": {
        "id": "D3tB4tolkG28"
      },
      "source": [
        "### Check for Correlations between features\n",
        "##### if there are strongly correlated features using just one of them should be enough\n"
      ]
    },
    {
      "cell_type": "code",
      "execution_count": null,
      "metadata": {
        "colab": {
          "base_uri": "https://localhost:8080/",
          "height": 443
        },
        "id": "7dPEypRwkG28",
        "outputId": "d32697c5-ee85-470f-a89f-417a90894f54"
      },
      "outputs": [
        {
          "data": {
            "text/html": [
              "\n",
              "  <div id=\"df-c0432d43-e393-4087-90eb-f807a95652e8\" class=\"colab-df-container\">\n",
              "    <div>\n",
              "<style scoped>\n",
              "    .dataframe tbody tr th:only-of-type {\n",
              "        vertical-align: middle;\n",
              "    }\n",
              "\n",
              "    .dataframe tbody tr th {\n",
              "        vertical-align: top;\n",
              "    }\n",
              "\n",
              "    .dataframe thead th {\n",
              "        text-align: right;\n",
              "    }\n",
              "</style>\n",
              "<table border=\"1\" class=\"dataframe\">\n",
              "  <thead>\n",
              "    <tr style=\"text-align: right;\">\n",
              "      <th></th>\n",
              "      <th>feature_1</th>\n",
              "      <th>feature_2</th>\n",
              "      <th>feature_3</th>\n",
              "      <th>feature_4</th>\n",
              "      <th>feature_5</th>\n",
              "      <th>feature_6</th>\n",
              "      <th>feature_7</th>\n",
              "      <th>feature_8</th>\n",
              "      <th>feature_9</th>\n",
              "      <th>feature_10</th>\n",
              "      <th>...</th>\n",
              "      <th>feature_247</th>\n",
              "      <th>feature_248</th>\n",
              "      <th>feature_249</th>\n",
              "      <th>feature_250</th>\n",
              "      <th>feature_251</th>\n",
              "      <th>feature_252</th>\n",
              "      <th>feature_253</th>\n",
              "      <th>feature_254</th>\n",
              "      <th>feature_255</th>\n",
              "      <th>feature_256</th>\n",
              "    </tr>\n",
              "  </thead>\n",
              "  <tbody>\n",
              "    <tr>\n",
              "      <th>feature_1</th>\n",
              "      <td>1.000000</td>\n",
              "      <td>-0.122368</td>\n",
              "      <td>-0.043844</td>\n",
              "      <td>0.133359</td>\n",
              "      <td>0.085920</td>\n",
              "      <td>0.143903</td>\n",
              "      <td>0.028939</td>\n",
              "      <td>-0.141357</td>\n",
              "      <td>0.049066</td>\n",
              "      <td>0.180607</td>\n",
              "      <td>...</td>\n",
              "      <td>-0.105048</td>\n",
              "      <td>-0.057641</td>\n",
              "      <td>-0.052484</td>\n",
              "      <td>-0.132177</td>\n",
              "      <td>0.080079</td>\n",
              "      <td>-0.293291</td>\n",
              "      <td>-0.130838</td>\n",
              "      <td>0.213589</td>\n",
              "      <td>-0.029109</td>\n",
              "      <td>-0.046556</td>\n",
              "    </tr>\n",
              "    <tr>\n",
              "      <th>feature_2</th>\n",
              "      <td>-0.122368</td>\n",
              "      <td>1.000000</td>\n",
              "      <td>-0.315640</td>\n",
              "      <td>-0.038636</td>\n",
              "      <td>-0.066823</td>\n",
              "      <td>0.014991</td>\n",
              "      <td>0.001485</td>\n",
              "      <td>-0.069789</td>\n",
              "      <td>-0.177971</td>\n",
              "      <td>-0.229639</td>\n",
              "      <td>...</td>\n",
              "      <td>0.011812</td>\n",
              "      <td>0.001762</td>\n",
              "      <td>0.162572</td>\n",
              "      <td>0.052741</td>\n",
              "      <td>-0.097919</td>\n",
              "      <td>0.145376</td>\n",
              "      <td>0.227251</td>\n",
              "      <td>0.142215</td>\n",
              "      <td>0.186345</td>\n",
              "      <td>-0.146253</td>\n",
              "    </tr>\n",
              "    <tr>\n",
              "      <th>feature_3</th>\n",
              "      <td>-0.043844</td>\n",
              "      <td>-0.315640</td>\n",
              "      <td>1.000000</td>\n",
              "      <td>0.019540</td>\n",
              "      <td>-0.024949</td>\n",
              "      <td>-0.042450</td>\n",
              "      <td>0.107391</td>\n",
              "      <td>-0.004427</td>\n",
              "      <td>0.133795</td>\n",
              "      <td>0.043577</td>\n",
              "      <td>...</td>\n",
              "      <td>0.039956</td>\n",
              "      <td>-0.030585</td>\n",
              "      <td>-0.196724</td>\n",
              "      <td>0.127026</td>\n",
              "      <td>0.039028</td>\n",
              "      <td>-0.032455</td>\n",
              "      <td>-0.095846</td>\n",
              "      <td>-0.044789</td>\n",
              "      <td>-0.191170</td>\n",
              "      <td>0.045783</td>\n",
              "    </tr>\n",
              "    <tr>\n",
              "      <th>feature_4</th>\n",
              "      <td>0.133359</td>\n",
              "      <td>-0.038636</td>\n",
              "      <td>0.019540</td>\n",
              "      <td>1.000000</td>\n",
              "      <td>0.164739</td>\n",
              "      <td>0.342170</td>\n",
              "      <td>-0.033977</td>\n",
              "      <td>-0.120289</td>\n",
              "      <td>0.162836</td>\n",
              "      <td>-0.096058</td>\n",
              "      <td>...</td>\n",
              "      <td>0.110797</td>\n",
              "      <td>0.001961</td>\n",
              "      <td>-0.246270</td>\n",
              "      <td>-0.227987</td>\n",
              "      <td>0.239254</td>\n",
              "      <td>-0.263488</td>\n",
              "      <td>0.018143</td>\n",
              "      <td>0.339311</td>\n",
              "      <td>-0.043473</td>\n",
              "      <td>-0.310500</td>\n",
              "    </tr>\n",
              "    <tr>\n",
              "      <th>feature_5</th>\n",
              "      <td>0.085920</td>\n",
              "      <td>-0.066823</td>\n",
              "      <td>-0.024949</td>\n",
              "      <td>0.164739</td>\n",
              "      <td>1.000000</td>\n",
              "      <td>0.165496</td>\n",
              "      <td>-0.277043</td>\n",
              "      <td>-0.086430</td>\n",
              "      <td>0.098080</td>\n",
              "      <td>0.094618</td>\n",
              "      <td>...</td>\n",
              "      <td>-0.158222</td>\n",
              "      <td>-0.093759</td>\n",
              "      <td>-0.205398</td>\n",
              "      <td>0.169982</td>\n",
              "      <td>0.124504</td>\n",
              "      <td>0.046793</td>\n",
              "      <td>0.000250</td>\n",
              "      <td>0.366209</td>\n",
              "      <td>0.250435</td>\n",
              "      <td>0.078442</td>\n",
              "    </tr>\n",
              "    <tr>\n",
              "      <th>...</th>\n",
              "      <td>...</td>\n",
              "      <td>...</td>\n",
              "      <td>...</td>\n",
              "      <td>...</td>\n",
              "      <td>...</td>\n",
              "      <td>...</td>\n",
              "      <td>...</td>\n",
              "      <td>...</td>\n",
              "      <td>...</td>\n",
              "      <td>...</td>\n",
              "      <td>...</td>\n",
              "      <td>...</td>\n",
              "      <td>...</td>\n",
              "      <td>...</td>\n",
              "      <td>...</td>\n",
              "      <td>...</td>\n",
              "      <td>...</td>\n",
              "      <td>...</td>\n",
              "      <td>...</td>\n",
              "      <td>...</td>\n",
              "      <td>...</td>\n",
              "    </tr>\n",
              "    <tr>\n",
              "      <th>feature_252</th>\n",
              "      <td>-0.293291</td>\n",
              "      <td>0.145376</td>\n",
              "      <td>-0.032455</td>\n",
              "      <td>-0.263488</td>\n",
              "      <td>0.046793</td>\n",
              "      <td>0.083610</td>\n",
              "      <td>-0.105217</td>\n",
              "      <td>0.111556</td>\n",
              "      <td>0.021658</td>\n",
              "      <td>-0.135744</td>\n",
              "      <td>...</td>\n",
              "      <td>-0.291179</td>\n",
              "      <td>-0.058649</td>\n",
              "      <td>-0.050666</td>\n",
              "      <td>0.174844</td>\n",
              "      <td>-0.200496</td>\n",
              "      <td>1.000000</td>\n",
              "      <td>0.207554</td>\n",
              "      <td>-0.132150</td>\n",
              "      <td>0.173118</td>\n",
              "      <td>0.401299</td>\n",
              "    </tr>\n",
              "    <tr>\n",
              "      <th>feature_253</th>\n",
              "      <td>-0.130838</td>\n",
              "      <td>0.227251</td>\n",
              "      <td>-0.095846</td>\n",
              "      <td>0.018143</td>\n",
              "      <td>0.000250</td>\n",
              "      <td>0.104036</td>\n",
              "      <td>0.169003</td>\n",
              "      <td>0.177270</td>\n",
              "      <td>-0.219734</td>\n",
              "      <td>-0.211072</td>\n",
              "      <td>...</td>\n",
              "      <td>-0.289260</td>\n",
              "      <td>-0.190506</td>\n",
              "      <td>0.017967</td>\n",
              "      <td>0.093282</td>\n",
              "      <td>0.156962</td>\n",
              "      <td>0.207554</td>\n",
              "      <td>1.000000</td>\n",
              "      <td>0.169700</td>\n",
              "      <td>0.031999</td>\n",
              "      <td>-0.146592</td>\n",
              "    </tr>\n",
              "    <tr>\n",
              "      <th>feature_254</th>\n",
              "      <td>0.213589</td>\n",
              "      <td>0.142215</td>\n",
              "      <td>-0.044789</td>\n",
              "      <td>0.339311</td>\n",
              "      <td>0.366209</td>\n",
              "      <td>0.244566</td>\n",
              "      <td>-0.191455</td>\n",
              "      <td>0.005285</td>\n",
              "      <td>0.095907</td>\n",
              "      <td>0.091993</td>\n",
              "      <td>...</td>\n",
              "      <td>-0.352404</td>\n",
              "      <td>-0.138879</td>\n",
              "      <td>-0.178728</td>\n",
              "      <td>-0.259972</td>\n",
              "      <td>0.314718</td>\n",
              "      <td>-0.132150</td>\n",
              "      <td>0.169700</td>\n",
              "      <td>1.000000</td>\n",
              "      <td>-0.007740</td>\n",
              "      <td>-0.262347</td>\n",
              "    </tr>\n",
              "    <tr>\n",
              "      <th>feature_255</th>\n",
              "      <td>-0.029109</td>\n",
              "      <td>0.186345</td>\n",
              "      <td>-0.191170</td>\n",
              "      <td>-0.043473</td>\n",
              "      <td>0.250435</td>\n",
              "      <td>0.153653</td>\n",
              "      <td>-0.215283</td>\n",
              "      <td>0.025924</td>\n",
              "      <td>-0.093347</td>\n",
              "      <td>-0.103102</td>\n",
              "      <td>...</td>\n",
              "      <td>-0.014113</td>\n",
              "      <td>0.042190</td>\n",
              "      <td>0.107745</td>\n",
              "      <td>0.147976</td>\n",
              "      <td>-0.302310</td>\n",
              "      <td>0.173118</td>\n",
              "      <td>0.031999</td>\n",
              "      <td>-0.007740</td>\n",
              "      <td>1.000000</td>\n",
              "      <td>0.179979</td>\n",
              "    </tr>\n",
              "    <tr>\n",
              "      <th>feature_256</th>\n",
              "      <td>-0.046556</td>\n",
              "      <td>-0.146253</td>\n",
              "      <td>0.045783</td>\n",
              "      <td>-0.310500</td>\n",
              "      <td>0.078442</td>\n",
              "      <td>0.137188</td>\n",
              "      <td>-0.264550</td>\n",
              "      <td>-0.258903</td>\n",
              "      <td>0.212040</td>\n",
              "      <td>-0.238555</td>\n",
              "      <td>...</td>\n",
              "      <td>-0.077239</td>\n",
              "      <td>0.035655</td>\n",
              "      <td>0.144340</td>\n",
              "      <td>0.243827</td>\n",
              "      <td>-0.355017</td>\n",
              "      <td>0.401299</td>\n",
              "      <td>-0.146592</td>\n",
              "      <td>-0.262347</td>\n",
              "      <td>0.179979</td>\n",
              "      <td>1.000000</td>\n",
              "    </tr>\n",
              "  </tbody>\n",
              "</table>\n",
              "<p>256 rows × 256 columns</p>\n",
              "</div>\n",
              "    <div class=\"colab-df-buttons\">\n",
              "\n",
              "  <div class=\"colab-df-container\">\n",
              "    <button class=\"colab-df-convert\" onclick=\"convertToInteractive('df-c0432d43-e393-4087-90eb-f807a95652e8')\"\n",
              "            title=\"Convert this dataframe to an interactive table.\"\n",
              "            style=\"display:none;\">\n",
              "\n",
              "  <svg xmlns=\"http://www.w3.org/2000/svg\" height=\"24px\" viewBox=\"0 -960 960 960\">\n",
              "    <path d=\"M120-120v-720h720v720H120Zm60-500h600v-160H180v160Zm220 220h160v-160H400v160Zm0 220h160v-160H400v160ZM180-400h160v-160H180v160Zm440 0h160v-160H620v160ZM180-180h160v-160H180v160Zm440 0h160v-160H620v160Z\"/>\n",
              "  </svg>\n",
              "    </button>\n",
              "\n",
              "  <style>\n",
              "    .colab-df-container {\n",
              "      display:flex;\n",
              "      gap: 12px;\n",
              "    }\n",
              "\n",
              "    .colab-df-convert {\n",
              "      background-color: #E8F0FE;\n",
              "      border: none;\n",
              "      border-radius: 50%;\n",
              "      cursor: pointer;\n",
              "      display: none;\n",
              "      fill: #1967D2;\n",
              "      height: 32px;\n",
              "      padding: 0 0 0 0;\n",
              "      width: 32px;\n",
              "    }\n",
              "\n",
              "    .colab-df-convert:hover {\n",
              "      background-color: #E2EBFA;\n",
              "      box-shadow: 0px 1px 2px rgba(60, 64, 67, 0.3), 0px 1px 3px 1px rgba(60, 64, 67, 0.15);\n",
              "      fill: #174EA6;\n",
              "    }\n",
              "\n",
              "    .colab-df-buttons div {\n",
              "      margin-bottom: 4px;\n",
              "    }\n",
              "\n",
              "    [theme=dark] .colab-df-convert {\n",
              "      background-color: #3B4455;\n",
              "      fill: #D2E3FC;\n",
              "    }\n",
              "\n",
              "    [theme=dark] .colab-df-convert:hover {\n",
              "      background-color: #434B5C;\n",
              "      box-shadow: 0px 1px 3px 1px rgba(0, 0, 0, 0.15);\n",
              "      filter: drop-shadow(0px 1px 2px rgba(0, 0, 0, 0.3));\n",
              "      fill: #FFFFFF;\n",
              "    }\n",
              "  </style>\n",
              "\n",
              "    <script>\n",
              "      const buttonEl =\n",
              "        document.querySelector('#df-c0432d43-e393-4087-90eb-f807a95652e8 button.colab-df-convert');\n",
              "      buttonEl.style.display =\n",
              "        google.colab.kernel.accessAllowed ? 'block' : 'none';\n",
              "\n",
              "      async function convertToInteractive(key) {\n",
              "        const element = document.querySelector('#df-c0432d43-e393-4087-90eb-f807a95652e8');\n",
              "        const dataTable =\n",
              "          await google.colab.kernel.invokeFunction('convertToInteractive',\n",
              "                                                    [key], {});\n",
              "        if (!dataTable) return;\n",
              "\n",
              "        const docLinkHtml = 'Like what you see? Visit the ' +\n",
              "          '<a target=\"_blank\" href=https://colab.research.google.com/notebooks/data_table.ipynb>data table notebook</a>'\n",
              "          + ' to learn more about interactive tables.';\n",
              "        element.innerHTML = '';\n",
              "        dataTable['output_type'] = 'display_data';\n",
              "        await google.colab.output.renderOutput(dataTable, element);\n",
              "        const docLink = document.createElement('div');\n",
              "        docLink.innerHTML = docLinkHtml;\n",
              "        element.appendChild(docLink);\n",
              "      }\n",
              "    </script>\n",
              "  </div>\n",
              "\n",
              "\n",
              "<div id=\"df-970fa877-b8d7-4564-b70b-c9f56b8852e2\">\n",
              "  <button class=\"colab-df-quickchart\" onclick=\"quickchart('df-970fa877-b8d7-4564-b70b-c9f56b8852e2')\"\n",
              "            title=\"Suggest charts.\"\n",
              "            style=\"display:none;\">\n",
              "\n",
              "<svg xmlns=\"http://www.w3.org/2000/svg\" height=\"24px\"viewBox=\"0 0 24 24\"\n",
              "     width=\"24px\">\n",
              "    <g>\n",
              "        <path d=\"M19 3H5c-1.1 0-2 .9-2 2v14c0 1.1.9 2 2 2h14c1.1 0 2-.9 2-2V5c0-1.1-.9-2-2-2zM9 17H7v-7h2v7zm4 0h-2V7h2v10zm4 0h-2v-4h2v4z\"/>\n",
              "    </g>\n",
              "</svg>\n",
              "  </button>\n",
              "\n",
              "<style>\n",
              "  .colab-df-quickchart {\n",
              "      --bg-color: #E8F0FE;\n",
              "      --fill-color: #1967D2;\n",
              "      --hover-bg-color: #E2EBFA;\n",
              "      --hover-fill-color: #174EA6;\n",
              "      --disabled-fill-color: #AAA;\n",
              "      --disabled-bg-color: #DDD;\n",
              "  }\n",
              "\n",
              "  [theme=dark] .colab-df-quickchart {\n",
              "      --bg-color: #3B4455;\n",
              "      --fill-color: #D2E3FC;\n",
              "      --hover-bg-color: #434B5C;\n",
              "      --hover-fill-color: #FFFFFF;\n",
              "      --disabled-bg-color: #3B4455;\n",
              "      --disabled-fill-color: #666;\n",
              "  }\n",
              "\n",
              "  .colab-df-quickchart {\n",
              "    background-color: var(--bg-color);\n",
              "    border: none;\n",
              "    border-radius: 50%;\n",
              "    cursor: pointer;\n",
              "    display: none;\n",
              "    fill: var(--fill-color);\n",
              "    height: 32px;\n",
              "    padding: 0;\n",
              "    width: 32px;\n",
              "  }\n",
              "\n",
              "  .colab-df-quickchart:hover {\n",
              "    background-color: var(--hover-bg-color);\n",
              "    box-shadow: 0 1px 2px rgba(60, 64, 67, 0.3), 0 1px 3px 1px rgba(60, 64, 67, 0.15);\n",
              "    fill: var(--button-hover-fill-color);\n",
              "  }\n",
              "\n",
              "  .colab-df-quickchart-complete:disabled,\n",
              "  .colab-df-quickchart-complete:disabled:hover {\n",
              "    background-color: var(--disabled-bg-color);\n",
              "    fill: var(--disabled-fill-color);\n",
              "    box-shadow: none;\n",
              "  }\n",
              "\n",
              "  .colab-df-spinner {\n",
              "    border: 2px solid var(--fill-color);\n",
              "    border-color: transparent;\n",
              "    border-bottom-color: var(--fill-color);\n",
              "    animation:\n",
              "      spin 1s steps(1) infinite;\n",
              "  }\n",
              "\n",
              "  @keyframes spin {\n",
              "    0% {\n",
              "      border-color: transparent;\n",
              "      border-bottom-color: var(--fill-color);\n",
              "      border-left-color: var(--fill-color);\n",
              "    }\n",
              "    20% {\n",
              "      border-color: transparent;\n",
              "      border-left-color: var(--fill-color);\n",
              "      border-top-color: var(--fill-color);\n",
              "    }\n",
              "    30% {\n",
              "      border-color: transparent;\n",
              "      border-left-color: var(--fill-color);\n",
              "      border-top-color: var(--fill-color);\n",
              "      border-right-color: var(--fill-color);\n",
              "    }\n",
              "    40% {\n",
              "      border-color: transparent;\n",
              "      border-right-color: var(--fill-color);\n",
              "      border-top-color: var(--fill-color);\n",
              "    }\n",
              "    60% {\n",
              "      border-color: transparent;\n",
              "      border-right-color: var(--fill-color);\n",
              "    }\n",
              "    80% {\n",
              "      border-color: transparent;\n",
              "      border-right-color: var(--fill-color);\n",
              "      border-bottom-color: var(--fill-color);\n",
              "    }\n",
              "    90% {\n",
              "      border-color: transparent;\n",
              "      border-bottom-color: var(--fill-color);\n",
              "    }\n",
              "  }\n",
              "</style>\n",
              "\n",
              "  <script>\n",
              "    async function quickchart(key) {\n",
              "      const quickchartButtonEl =\n",
              "        document.querySelector('#' + key + ' button');\n",
              "      quickchartButtonEl.disabled = true;  // To prevent multiple clicks.\n",
              "      quickchartButtonEl.classList.add('colab-df-spinner');\n",
              "      try {\n",
              "        const charts = await google.colab.kernel.invokeFunction(\n",
              "            'suggestCharts', [key], {});\n",
              "      } catch (error) {\n",
              "        console.error('Error during call to suggestCharts:', error);\n",
              "      }\n",
              "      quickchartButtonEl.classList.remove('colab-df-spinner');\n",
              "      quickchartButtonEl.classList.add('colab-df-quickchart-complete');\n",
              "    }\n",
              "    (() => {\n",
              "      let quickchartButtonEl =\n",
              "        document.querySelector('#df-970fa877-b8d7-4564-b70b-c9f56b8852e2 button');\n",
              "      quickchartButtonEl.style.display =\n",
              "        google.colab.kernel.accessAllowed ? 'block' : 'none';\n",
              "    })();\n",
              "  </script>\n",
              "</div>\n",
              "    </div>\n",
              "  </div>\n"
            ],
            "text/plain": [
              "             feature_1  feature_2  feature_3  feature_4  feature_5  feature_6  \\\n",
              "feature_1     1.000000  -0.122368  -0.043844   0.133359   0.085920   0.143903   \n",
              "feature_2    -0.122368   1.000000  -0.315640  -0.038636  -0.066823   0.014991   \n",
              "feature_3    -0.043844  -0.315640   1.000000   0.019540  -0.024949  -0.042450   \n",
              "feature_4     0.133359  -0.038636   0.019540   1.000000   0.164739   0.342170   \n",
              "feature_5     0.085920  -0.066823  -0.024949   0.164739   1.000000   0.165496   \n",
              "...                ...        ...        ...        ...        ...        ...   \n",
              "feature_252  -0.293291   0.145376  -0.032455  -0.263488   0.046793   0.083610   \n",
              "feature_253  -0.130838   0.227251  -0.095846   0.018143   0.000250   0.104036   \n",
              "feature_254   0.213589   0.142215  -0.044789   0.339311   0.366209   0.244566   \n",
              "feature_255  -0.029109   0.186345  -0.191170  -0.043473   0.250435   0.153653   \n",
              "feature_256  -0.046556  -0.146253   0.045783  -0.310500   0.078442   0.137188   \n",
              "\n",
              "             feature_7  feature_8  feature_9  feature_10  ...  feature_247  \\\n",
              "feature_1     0.028939  -0.141357   0.049066    0.180607  ...    -0.105048   \n",
              "feature_2     0.001485  -0.069789  -0.177971   -0.229639  ...     0.011812   \n",
              "feature_3     0.107391  -0.004427   0.133795    0.043577  ...     0.039956   \n",
              "feature_4    -0.033977  -0.120289   0.162836   -0.096058  ...     0.110797   \n",
              "feature_5    -0.277043  -0.086430   0.098080    0.094618  ...    -0.158222   \n",
              "...                ...        ...        ...         ...  ...          ...   \n",
              "feature_252  -0.105217   0.111556   0.021658   -0.135744  ...    -0.291179   \n",
              "feature_253   0.169003   0.177270  -0.219734   -0.211072  ...    -0.289260   \n",
              "feature_254  -0.191455   0.005285   0.095907    0.091993  ...    -0.352404   \n",
              "feature_255  -0.215283   0.025924  -0.093347   -0.103102  ...    -0.014113   \n",
              "feature_256  -0.264550  -0.258903   0.212040   -0.238555  ...    -0.077239   \n",
              "\n",
              "             feature_248  feature_249  feature_250  feature_251  feature_252  \\\n",
              "feature_1      -0.057641    -0.052484    -0.132177     0.080079    -0.293291   \n",
              "feature_2       0.001762     0.162572     0.052741    -0.097919     0.145376   \n",
              "feature_3      -0.030585    -0.196724     0.127026     0.039028    -0.032455   \n",
              "feature_4       0.001961    -0.246270    -0.227987     0.239254    -0.263488   \n",
              "feature_5      -0.093759    -0.205398     0.169982     0.124504     0.046793   \n",
              "...                  ...          ...          ...          ...          ...   \n",
              "feature_252    -0.058649    -0.050666     0.174844    -0.200496     1.000000   \n",
              "feature_253    -0.190506     0.017967     0.093282     0.156962     0.207554   \n",
              "feature_254    -0.138879    -0.178728    -0.259972     0.314718    -0.132150   \n",
              "feature_255     0.042190     0.107745     0.147976    -0.302310     0.173118   \n",
              "feature_256     0.035655     0.144340     0.243827    -0.355017     0.401299   \n",
              "\n",
              "             feature_253  feature_254  feature_255  feature_256  \n",
              "feature_1      -0.130838     0.213589    -0.029109    -0.046556  \n",
              "feature_2       0.227251     0.142215     0.186345    -0.146253  \n",
              "feature_3      -0.095846    -0.044789    -0.191170     0.045783  \n",
              "feature_4       0.018143     0.339311    -0.043473    -0.310500  \n",
              "feature_5       0.000250     0.366209     0.250435     0.078442  \n",
              "...                  ...          ...          ...          ...  \n",
              "feature_252     0.207554    -0.132150     0.173118     0.401299  \n",
              "feature_253     1.000000     0.169700     0.031999    -0.146592  \n",
              "feature_254     0.169700     1.000000    -0.007740    -0.262347  \n",
              "feature_255     0.031999    -0.007740     1.000000     0.179979  \n",
              "feature_256    -0.146592    -0.262347     0.179979     1.000000  \n",
              "\n",
              "[256 rows x 256 columns]"
            ]
          },
          "execution_count": 14,
          "metadata": {},
          "output_type": "execute_result"
        }
      ],
      "source": [
        "\n",
        "import seaborn as sns\n",
        "#Using Pearson Correlation\n",
        "X_train.corr()"
      ]
    },
    {
      "cell_type": "code",
      "execution_count": null,
      "metadata": {
        "colab": {
          "base_uri": "https://localhost:8080/"
        },
        "id": "4BGh0OwFkG29",
        "outputId": "88045267-e78f-4c30-e702-03c45552f1f5"
      },
      "outputs": [
        {
          "data": {
            "text/plain": [
              "0"
            ]
          },
          "execution_count": 15,
          "metadata": {},
          "output_type": "execute_result"
        }
      ],
      "source": [
        "def correlation(dataset, threshold):\n",
        "    col_corr = set()  # Set of all the names of correlated columns\n",
        "    corr_matrix = dataset.corr()\n",
        "    for i in range(len(corr_matrix.columns)):\n",
        "        for j in range(i):\n",
        "            if abs(corr_matrix.iloc[i, j]) > threshold: # we are interested in absolute coeff value\n",
        "                colname = corr_matrix.columns[i]  # getting the name of column\n",
        "                col_corr.add(colname)\n",
        "    return col_corr\n",
        "\n",
        "corr_features = correlation(X_train, 0.7)\n",
        "len(set(corr_features))"
      ]
    },
    {
      "cell_type": "markdown",
      "metadata": {
        "id": "ugze_RNWkG29"
      },
      "source": [
        "##### There are no features that exceed the correlation threshold of 0.7"
      ]
    },
    {
      "cell_type": "markdown",
      "metadata": {
        "id": "OFH_xuARkG29"
      },
      "source": [
        "## Label 1 - Speaker ID"
      ]
    },
    {
      "cell_type": "code",
      "execution_count": null,
      "metadata": {
        "id": "7PEo_EwPkG29"
      },
      "outputs": [],
      "source": [
        "Y_train_1 = Y_train['label_1']\n",
        "Y_valid_1 = Y_valid['label_1']"
      ]
    },
    {
      "cell_type": "code",
      "execution_count": null,
      "metadata": {
        "colab": {
          "base_uri": "https://localhost:8080/"
        },
        "id": "fnfxj-BhlNkK",
        "outputId": "326553d5-e8ad-4af4-d29c-0f708f8a4dda"
      },
      "outputs": [
        {
          "data": {
            "text/plain": [
              "0    45.0\n",
              "1    45.0\n",
              "2    45.0\n",
              "3    45.0\n",
              "4    45.0\n",
              "Name: label_1, dtype: float64"
            ]
          },
          "execution_count": 17,
          "metadata": {},
          "output_type": "execute_result"
        }
      ],
      "source": [
        "Y_train_1.head()"
      ]
    },
    {
      "cell_type": "code",
      "execution_count": null,
      "metadata": {
        "colab": {
          "base_uri": "https://localhost:8080/"
        },
        "id": "e-hMgiYYkG2-",
        "outputId": "9608b16c-3f15-4a14-b48f-764c48bcc0a8"
      },
      "outputs": [
        {
          "name": "stdout",
          "output_type": "stream",
          "text": [
            "Original accuracy:  99.47\n"
          ]
        }
      ],
      "source": [
        "from sklearn.pipeline import make_pipeline\n",
        "from sklearn.preprocessing import StandardScaler\n",
        "from sklearn.svm import SVC\n",
        "from sklearn.metrics import accuracy_score\n",
        "\n",
        "poly_1_original = SVC(kernel='poly', degree=3, C=1).fit(X_train, Y_train_1)\n",
        "poly_pred = poly_1_original.predict(X_valid)\n",
        "poly_accuracy = accuracy_score(Y_valid_1, poly_pred)\n",
        "print('Original accuracy: ', \"%.2f\" % (poly_accuracy*100))\n"
      ]
    },
    {
      "cell_type": "markdown",
      "metadata": {
        "id": "-zcr41ehkG2-"
      },
      "source": [
        "### Mutual Information"
      ]
    },
    {
      "cell_type": "code",
      "execution_count": null,
      "metadata": {
        "colab": {
          "base_uri": "https://localhost:8080/"
        },
        "id": "GLX85OYekG2-",
        "outputId": "66df0454-2479-41aa-94dd-852d15bf6e5c"
      },
      "outputs": [
        {
          "data": {
            "text/plain": [
              "feature_44     0.543845\n",
              "feature_233    0.506968\n",
              "feature_36     0.429639\n",
              "feature_35     0.380365\n",
              "feature_143    0.378065\n",
              "                 ...   \n",
              "feature_252    0.097470\n",
              "feature_247    0.096909\n",
              "feature_48     0.087358\n",
              "feature_31     0.085048\n",
              "feature_22     0.083484\n",
              "Length: 256, dtype: float64"
            ]
          },
          "execution_count": 19,
          "metadata": {},
          "output_type": "execute_result"
        }
      ],
      "source": [
        "from sklearn.feature_selection import mutual_info_classif\n",
        "\n",
        "mutual_info = mutual_info_classif(X_train, Y_train_1)\n",
        "mutual_info = pd.Series(mutual_info)\n",
        "mutual_info.index = X_train.columns\n",
        "mutual_info.sort_values(ascending=False)"
      ]
    },
    {
      "cell_type": "code",
      "execution_count": null,
      "metadata": {
        "colab": {
          "base_uri": "https://localhost:8080/",
          "height": 512
        },
        "id": "p6ENaKlqkG2_",
        "outputId": "76c3b7f6-c883-479a-d806-31b350162427"
      },
      "outputs": [
        {
          "data": {
            "text/plain": [
              "<Axes: >"
            ]
          },
          "execution_count": 20,
          "metadata": {},
          "output_type": "execute_result"
        },
        {
          "data": {
            "image/png": "[encoded data removed]",
            "text/plain": [
              "<Figure size 2000x800 with 1 Axes>"
            ]
          },
          "metadata": {},
          "output_type": "display_data"
        }
      ],
      "source": [
        "mutual_info.sort_values(ascending=False).plot.bar(figsize=(20, 8))"
      ]
    },
    {
      "cell_type": "markdown",
      "metadata": {
        "id": "w-9qcR23kG2_"
      },
      "source": [
        "#### Lets remove features with information gain less than 0.2 and calculate the acuuracy again"
      ]
    },
    {
      "cell_type": "code",
      "execution_count": null,
      "metadata": {
        "id": "fXG9debBkG2_"
      },
      "outputs": [],
      "source": [
        "from sklearn.feature_selection import SelectKBest\n",
        "\n",
        "# selecting features with greater than 0.25 mutual information scores\n",
        "X_train_1 = X_train.copy()\n",
        "X_valid_1 = X_valid.copy()\n",
        "feature_count_1 = mutual_info[mutual_info > 0.19].count()\n",
        "sel_five_cols = SelectKBest(mutual_info_classif, k=feature_count_1)\n",
        "sel_five_cols.fit(X_train_1, Y_train_1)\n",
        "new_columns_1 = X_train_1.columns[sel_five_cols.get_support()]"
      ]
    },
    {
      "cell_type": "code",
      "execution_count": null,
      "metadata": {
        "colab": {
          "base_uri": "https://localhost:8080/"
        },
        "id": "CCpBC8M6kG2_",
        "outputId": "ca8caf9d-f90f-40ba-837c-c57d293c2adc"
      },
      "outputs": [
        {
          "name": "stdout",
          "output_type": "stream",
          "text": [
            "Index(['feature_3', 'feature_4', 'feature_8', 'feature_11', 'feature_15',\n",
            "       'feature_19', 'feature_21', 'feature_23', 'feature_24', 'feature_26',\n",
            "       'feature_28', 'feature_29', 'feature_30', 'feature_33', 'feature_35',\n",
            "       'feature_36', 'feature_38', 'feature_42', 'feature_44', 'feature_46',\n",
            "       'feature_51', 'feature_54', 'feature_57', 'feature_58', 'feature_60',\n",
            "       'feature_63', 'feature_64', 'feature_76', 'feature_77', 'feature_83',\n",
            "       'feature_85', 'feature_86', 'feature_90', 'feature_93', 'feature_96',\n",
            "       'feature_99', 'feature_102', 'feature_105', 'feature_107',\n",
            "       'feature_109', 'feature_111', 'feature_113', 'feature_117',\n",
            "       'feature_122', 'feature_128', 'feature_131', 'feature_136',\n",
            "       'feature_139', 'feature_141', 'feature_142', 'feature_143',\n",
            "       'feature_144', 'feature_145', 'feature_149', 'feature_151',\n",
            "       'feature_154', 'feature_156', 'feature_161', 'feature_166',\n",
            "       'feature_170', 'feature_174', 'feature_178', 'feature_182',\n",
            "       'feature_184', 'feature_187', 'feature_188', 'feature_189',\n",
            "       'feature_201', 'feature_204', 'feature_207', 'feature_209',\n",
            "       'feature_213', 'feature_219', 'feature_222', 'feature_223',\n",
            "       'feature_226', 'feature_229', 'feature_232', 'feature_233',\n",
            "       'feature_234', 'feature_236', 'feature_237', 'feature_238',\n",
            "       'feature_244', 'feature_248', 'feature_256'],\n",
            "      dtype='object')\n"
          ]
        }
      ],
      "source": [
        "print(new_columns_1)"
      ]
    },
    {
      "cell_type": "code",
      "execution_count": null,
      "metadata": {
        "colab": {
          "base_uri": "https://localhost:8080/"
        },
        "id": "oWoKMgTbkG2_",
        "outputId": "3a8953f9-974b-42dd-cc9e-4912d77f64e6"
      },
      "outputs": [
        {
          "name": "stdout",
          "output_type": "stream",
          "text": [
            "86 features selected out of 260\n"
          ]
        }
      ],
      "source": [
        "print(f'{feature_count_1} features selected out of 260')"
      ]
    },
    {
      "cell_type": "code",
      "execution_count": null,
      "metadata": {
        "colab": {
          "base_uri": "https://localhost:8080/"
        },
        "id": "lPknFiR_kG3A",
        "outputId": "fd89f9e3-dcbf-4e6f-a5c3-78128895a328"
      },
      "outputs": [
        {
          "data": {
            "text/plain": [
              "((28520, 86), (750, 86))"
            ]
          },
          "execution_count": 24,
          "metadata": {},
          "output_type": "execute_result"
        }
      ],
      "source": [
        "X_train_1 = X_train_1[new_columns_1]\n",
        "X_valid_1 = X_valid_1[new_columns_1]\n",
        "X_train_1.shape, X_valid_1.shape"
      ]
    },
    {
      "cell_type": "code",
      "execution_count": null,
      "metadata": {
        "colab": {
          "base_uri": "https://localhost:8080/"
        },
        "id": "T75kH0dEkG3A",
        "outputId": "d7217c36-e63d-4ddd-c65e-c5da3bc79ae6"
      },
      "outputs": [
        {
          "name": "stdout",
          "output_type": "stream",
          "text": [
            "New accuracy:  98.67\n"
          ]
        }
      ],
      "source": [
        "\n",
        "poly_1_new = SVC(kernel='poly', degree=3, C=1).fit(X_train_1, Y_train_1)\n",
        "poly_pred = poly_1_new.predict(X_valid_1)\n",
        "poly_accuracy = accuracy_score(Y_valid_1, poly_pred)\n",
        "print('New accuracy: ', \"%.2f\" % (poly_accuracy*100))"
      ]
    },
    {
      "cell_type": "markdown",
      "metadata": {
        "id": "bGveHTUqkG3A"
      },
      "source": [
        "## Label 2 - Speaker Age"
      ]
    },
    {
      "cell_type": "markdown",
      "metadata": {
        "id": "VXQbbd1fkG3B"
      },
      "source": [
        "### Apply Support Vector Machine to the original dataset"
      ]
    },
    {
      "cell_type": "code",
      "execution_count": null,
      "metadata": {
        "id": "bV_By8iEkG3B"
      },
      "outputs": [],
      "source": [
        "Y_train_2 = Y_train['label_2']\n",
        "Y_valid_2 = Y_valid['label_2']"
      ]
    },
    {
      "cell_type": "code",
      "execution_count": null,
      "metadata": {
        "colab": {
          "base_uri": "https://localhost:8080/"
        },
        "id": "8geThmihkG3B",
        "outputId": "f33a8655-f5a7-4b16-fd58-58945a118b46"
      },
      "outputs": [
        {
          "name": "stdout",
          "output_type": "stream",
          "text": [
            "Original accuracy:  98.27\n"
          ]
        }
      ],
      "source": [
        "from sklearn.pipeline import make_pipeline\n",
        "from sklearn.preprocessing import StandardScaler\n",
        "from sklearn.svm import SVC\n",
        "from sklearn.metrics import accuracy_score\n",
        "\n",
        "poly_2_original = SVC(kernel='poly', degree=3, C=1).fit(X_train, Y_train_2)\n",
        "poly_pred = poly_2_original.predict(X_valid)\n",
        "poly_accuracy = accuracy_score(Y_valid_2, poly_pred)\n",
        "print('Original accuracy: ', \"%.2f\" % (poly_accuracy*100))\n"
      ]
    },
    {
      "cell_type": "markdown",
      "metadata": {
        "id": "YuQ1p0htkG3D"
      },
      "source": [
        "### Mutual Information"
      ]
    },
    {
      "cell_type": "code",
      "execution_count": null,
      "metadata": {
        "colab": {
          "base_uri": "https://localhost:8080/"
        },
        "id": "2hzUm-ibkG3D",
        "outputId": "9710ce64-bba2-4b9e-d966-4b8ac944fc94"
      },
      "outputs": [
        {
          "data": {
            "text/plain": [
              "feature_44     0.168258\n",
              "feature_233    0.148438\n",
              "feature_201    0.134251\n",
              "feature_143    0.131778\n",
              "feature_35     0.128227\n",
              "                 ...   \n",
              "feature_67     0.021857\n",
              "feature_98     0.021282\n",
              "feature_239    0.019865\n",
              "feature_32     0.019147\n",
              "feature_48     0.017998\n",
              "Length: 256, dtype: float64"
            ]
          },
          "execution_count": 28,
          "metadata": {},
          "output_type": "execute_result"
        }
      ],
      "source": [
        "from sklearn.feature_selection import mutual_info_classif\n",
        "\n",
        "mutual_info = mutual_info_classif(X_train, Y_train_2)\n",
        "mutual_info = pd.Series(mutual_info)\n",
        "mutual_info.index = X_train.columns\n",
        "mutual_info.sort_values(ascending=False)"
      ]
    },
    {
      "cell_type": "code",
      "execution_count": null,
      "metadata": {
        "colab": {
          "base_uri": "https://localhost:8080/"
        },
        "id": "UHHQAM6kkG3D",
        "outputId": "80aaeb4f-5a44-4359-9d36-e71634fefe95"
      },
      "outputs": [
        {
          "data": {
            "text/plain": [
              "<Axes: >"
            ]
          },
          "execution_count": 29,
          "metadata": {},
          "output_type": "execute_result"
        },
        {
          "data": {
            "image/png": "[encoded data removed]",
            "text/plain": [
              "<Figure size 2000x800 with 1 Axes>"
            ]
          },
          "metadata": {},
          "output_type": "display_data"
        }
      ],
      "source": [
        "mutual_info.sort_values(ascending=False).plot.bar(figsize=(20, 8))"
      ]
    },
    {
      "cell_type": "markdown",
      "metadata": {
        "id": "ePfhsz2ykG3E"
      },
      "source": [
        "#### Lets remove features with information gain less than 0.2 and calculate the acuuracy again"
      ]
    },
    {
      "cell_type": "code",
      "execution_count": null,
      "metadata": {
        "id": "uq27ZZO0kG3E"
      },
      "outputs": [],
      "source": [
        "from sklearn.feature_selection import SelectKBest\n",
        "\n",
        "# selecting features with greater than 0.25 mutual information scores\n",
        "X_train_2 = X_train.copy()\n",
        "X_valid_2 = X_valid.copy()\n",
        "feature_count_2 = mutual_info[mutual_info > 0.055].count()\n",
        "sel_five_cols_2 = SelectKBest(mutual_info_classif, k=feature_count_2)\n",
        "sel_five_cols_2.fit(X_train_2, Y_train_2)\n",
        "new_columns_2 = X_train_2.columns[sel_five_cols_2.get_support()]"
      ]
    },
    {
      "cell_type": "code",
      "execution_count": null,
      "metadata": {
        "colab": {
          "base_uri": "https://localhost:8080/"
        },
        "id": "teIGaCHhkG3E",
        "outputId": "6242f4e0-ee90-424d-f5eb-d5dbdbd9633d"
      },
      "outputs": [
        {
          "name": "stdout",
          "output_type": "stream",
          "text": [
            "Index(['feature_2', 'feature_3', 'feature_4', 'feature_8', 'feature_11',\n",
            "       'feature_12', 'feature_15', 'feature_17', 'feature_19', 'feature_21',\n",
            "       ...\n",
            "       'feature_238', 'feature_240', 'feature_241', 'feature_244',\n",
            "       'feature_248', 'feature_249', 'feature_250', 'feature_251',\n",
            "       'feature_255', 'feature_256'],\n",
            "      dtype='object', length=105)\n"
          ]
        }
      ],
      "source": [
        "print(new_columns_2)"
      ]
    },
    {
      "cell_type": "code",
      "execution_count": null,
      "metadata": {
        "colab": {
          "base_uri": "https://localhost:8080/"
        },
        "id": "uJG1oTRtkG3F",
        "outputId": "344050fa-ecde-4099-e30f-e5629ce285ef"
      },
      "outputs": [
        {
          "name": "stdout",
          "output_type": "stream",
          "text": [
            "105 features selected out of 260\n"
          ]
        }
      ],
      "source": [
        "print(f'{feature_count_2} features selected out of 260')"
      ]
    },
    {
      "cell_type": "code",
      "execution_count": null,
      "metadata": {
        "colab": {
          "base_uri": "https://localhost:8080/"
        },
        "id": "vs2PTmPMkG3F",
        "outputId": "ff31e528-c8b4-4489-f25a-97f1f0474f81"
      },
      "outputs": [
        {
          "data": {
            "text/plain": [
              "((28520, 105), (750, 105))"
            ]
          },
          "execution_count": 33,
          "metadata": {},
          "output_type": "execute_result"
        }
      ],
      "source": [
        "X_train_2 = X_train_2[new_columns_2]\n",
        "X_valid_2 = X_valid_2[new_columns_2]\n",
        "X_train_2.shape, X_valid_2.shape"
      ]
    },
    {
      "cell_type": "code",
      "execution_count": null,
      "metadata": {
        "colab": {
          "base_uri": "https://localhost:8080/"
        },
        "id": "MPcEDMTtkG3F",
        "outputId": "9a5b48f5-fed0-44c3-9afd-1807a23be5f1"
      },
      "outputs": [
        {
          "name": "stdout",
          "output_type": "stream",
          "text": [
            "New accuracy:  97.07\n"
          ]
        }
      ],
      "source": [
        "\n",
        "poly_2_new = SVC(kernel='poly', degree=3, C=1).fit(X_train_2, Y_train_2)\n",
        "poly_pred = poly_2_new.predict(X_valid_2)\n",
        "poly_accuracy = accuracy_score(Y_valid_2, poly_pred)\n",
        "print('New accuracy: ', \"%.2f\" % (poly_accuracy*100))"
      ]
    },
    {
      "cell_type": "markdown",
      "metadata": {
        "id": "4I0zCs8ZkG3G"
      },
      "source": [
        "## Label 3 - Speaker Gender"
      ]
    },
    {
      "cell_type": "markdown",
      "metadata": {
        "id": "7iolsPSdkG3G"
      },
      "source": [
        "### Apply Support Vector Machine to the original dataset"
      ]
    },
    {
      "cell_type": "code",
      "execution_count": null,
      "metadata": {
        "id": "ddnlCLGDkG3G"
      },
      "outputs": [],
      "source": [
        "Y_train_3 = Y_train['label_3']\n",
        "Y_valid_3 = Y_valid['label_3']"
      ]
    },
    {
      "cell_type": "code",
      "execution_count": null,
      "metadata": {
        "colab": {
          "base_uri": "https://localhost:8080/"
        },
        "id": "6NT0RBtRkG3G",
        "outputId": "7b3ef71c-5ad5-4631-b0ba-15d4ec6e51f2"
      },
      "outputs": [
        {
          "name": "stdout",
          "output_type": "stream",
          "text": [
            "Original accuracy:  100.00\n"
          ]
        }
      ],
      "source": [
        "from sklearn.pipeline import make_pipeline\n",
        "from sklearn.preprocessing import StandardScaler\n",
        "from sklearn.svm import SVC\n",
        "from sklearn.metrics import accuracy_score\n",
        "\n",
        "poly_3_original = SVC(kernel='poly', degree=3, C=1).fit(X_train, Y_train_3)\n",
        "poly_pred = poly_3_original.predict(X_valid)\n",
        "poly_accuracy = accuracy_score(Y_valid_3, poly_pred)\n",
        "print('Original accuracy: ', \"%.2f\" % (poly_accuracy*100))\n"
      ]
    },
    {
      "cell_type": "markdown",
      "metadata": {
        "id": "FaJE3fGkkG3G"
      },
      "source": [
        "### Mutual Information"
      ]
    },
    {
      "cell_type": "code",
      "execution_count": null,
      "metadata": {
        "colab": {
          "base_uri": "https://localhost:8080/"
        },
        "id": "-pAAmUGikG3H",
        "outputId": "88b85f9f-5144-41a8-c9b3-6a0e66032c98"
      },
      "outputs": [
        {
          "data": {
            "text/plain": [
              "feature_233    0.364976\n",
              "feature_44     0.344484\n",
              "feature_36     0.305784\n",
              "feature_113    0.240820\n",
              "feature_143    0.220282\n",
              "                 ...   \n",
              "feature_126    0.000000\n",
              "feature_92     0.000000\n",
              "feature_48     0.000000\n",
              "feature_20     0.000000\n",
              "feature_129    0.000000\n",
              "Length: 256, dtype: float64"
            ]
          },
          "execution_count": 37,
          "metadata": {},
          "output_type": "execute_result"
        }
      ],
      "source": [
        "from sklearn.feature_selection import mutual_info_classif\n",
        "\n",
        "mutual_info = mutual_info_classif(X_train, Y_train_3)\n",
        "mutual_info = pd.Series(mutual_info)\n",
        "mutual_info.index = X_train.columns\n",
        "mutual_info.sort_values(ascending=False)"
      ]
    },
    {
      "cell_type": "code",
      "execution_count": null,
      "metadata": {
        "colab": {
          "base_uri": "https://localhost:8080/"
        },
        "id": "4Y0pSLfskG3H",
        "outputId": "1f8ee21b-ca76-4b0e-ed88-c7bd37abe6dd"
      },
      "outputs": [
        {
          "data": {
            "text/plain": [
              "<Axes: >"
            ]
          },
          "execution_count": 38,
          "metadata": {},
          "output_type": "execute_result"
        },
        {
          "data": {
            "image/png": "[encoded data removed]",
            "text/plain": [
              "<Figure size 2000x800 with 1 Axes>"
            ]
          },
          "metadata": {},
          "output_type": "display_data"
        }
      ],
      "source": [
        "mutual_info.sort_values(ascending=False).plot.bar(figsize=(20, 8))"
      ]
    },
    {
      "cell_type": "markdown",
      "metadata": {
        "id": "N2yVqOYDkG3H"
      },
      "source": [
        "#### Lets remove features with information gain less than 0.2 and calculate the acuuracy again"
      ]
    },
    {
      "cell_type": "code",
      "execution_count": null,
      "metadata": {
        "id": "8DxJmZkNkG3I"
      },
      "outputs": [],
      "source": [
        "from sklearn.feature_selection import SelectKBest\n",
        "\n",
        "# selecting features with greater than 0.25 mutual information scores\n",
        "X_train_3 = X_train.copy()\n",
        "X_valid_3 = X_valid.copy()\n",
        "feature_count_3 = mutual_info[mutual_info > 0.05].count()\n",
        "sel_five_cols_3 = SelectKBest(mutual_info_classif, k=feature_count_3)\n",
        "sel_five_cols_3.fit(X_train_3, Y_train_3)\n",
        "new_columns_3 = X_train_3.columns[sel_five_cols_3.get_support()]"
      ]
    },
    {
      "cell_type": "code",
      "execution_count": null,
      "metadata": {
        "colab": {
          "base_uri": "https://localhost:8080/"
        },
        "id": "Mzo3nL55kG3I",
        "outputId": "6a167790-d843-4447-b5ae-f3562bd55f5f"
      },
      "outputs": [
        {
          "name": "stdout",
          "output_type": "stream",
          "text": [
            "Index(['feature_3', 'feature_14', 'feature_16', 'feature_35', 'feature_36',\n",
            "       'feature_38', 'feature_40', 'feature_44', 'feature_46', 'feature_60',\n",
            "       'feature_86', 'feature_88', 'feature_93', 'feature_102', 'feature_107',\n",
            "       'feature_109', 'feature_113', 'feature_117', 'feature_139',\n",
            "       'feature_143', 'feature_163', 'feature_166', 'feature_168',\n",
            "       'feature_178', 'feature_184', 'feature_201', 'feature_207',\n",
            "       'feature_209', 'feature_219', 'feature_223', 'feature_226',\n",
            "       'feature_229', 'feature_232', 'feature_233', 'feature_234',\n",
            "       'feature_244', 'feature_256'],\n",
            "      dtype='object')\n"
          ]
        }
      ],
      "source": [
        "print(new_columns_3)"
      ]
    },
    {
      "cell_type": "code",
      "execution_count": null,
      "metadata": {
        "colab": {
          "base_uri": "https://localhost:8080/"
        },
        "id": "cvrTy8k7kG3I",
        "outputId": "dc901615-3184-4206-b705-16c486c3af27"
      },
      "outputs": [
        {
          "name": "stdout",
          "output_type": "stream",
          "text": [
            "37 features selected out of 260\n"
          ]
        }
      ],
      "source": [
        "print(f'{feature_count_3} features selected out of 260')"
      ]
    },
    {
      "cell_type": "code",
      "execution_count": null,
      "metadata": {
        "colab": {
          "base_uri": "https://localhost:8080/"
        },
        "id": "4hDUgNNlkG3I",
        "outputId": "58c3da28-7f02-4a2a-941b-4c065485c092"
      },
      "outputs": [
        {
          "data": {
            "text/plain": [
              "((28520, 37), (750, 37))"
            ]
          },
          "execution_count": 42,
          "metadata": {},
          "output_type": "execute_result"
        }
      ],
      "source": [
        "X_train_3 = X_train_3[new_columns_3]\n",
        "X_valid_3 = X_valid_3[new_columns_3]\n",
        "X_train_3.shape, X_valid_3.shape"
      ]
    },
    {
      "cell_type": "code",
      "execution_count": null,
      "metadata": {
        "colab": {
          "base_uri": "https://localhost:8080/"
        },
        "id": "KTmuTTUckG3J",
        "outputId": "8cee29dc-973c-44fe-c57a-4376dbc684b7"
      },
      "outputs": [
        {
          "name": "stdout",
          "output_type": "stream",
          "text": [
            "New accuracy:  99.73\n"
          ]
        }
      ],
      "source": [
        "\n",
        "poly_3_new = SVC(kernel='poly', degree=3, C=1).fit(X_train_3, Y_train_3)\n",
        "poly_pred = poly_3_new.predict(X_valid_3)\n",
        "poly_accuracy = accuracy_score(Y_valid_3, poly_pred)\n",
        "print('New accuracy: ', \"%.2f\" % (poly_accuracy*100))"
      ]
    },
    {
      "cell_type": "markdown",
      "metadata": {
        "id": "K1KpxKDQkG3J"
      },
      "source": [
        "## Label 4 - Speaker Accent"
      ]
    },
    {
      "cell_type": "markdown",
      "metadata": {
        "id": "qXb8gRFykG3J"
      },
      "source": [
        "### Apply Support Vector Machine to the original dataset"
      ]
    },
    {
      "cell_type": "code",
      "execution_count": null,
      "metadata": {
        "id": "xyFVtvZDkG3J"
      },
      "outputs": [],
      "source": [
        "Y_train_4 = Y_train['label_4']\n",
        "Y_valid_4 = Y_valid['label_4']"
      ]
    },
    {
      "cell_type": "code",
      "execution_count": null,
      "metadata": {
        "colab": {
          "base_uri": "https://localhost:8080/"
        },
        "id": "N7s70mVfkG3K",
        "outputId": "06dc5ffe-6bf1-4532-81b3-79a8cbd06fe8"
      },
      "outputs": [
        {
          "name": "stdout",
          "output_type": "stream",
          "text": [
            "Original accuracy:  98.53\n"
          ]
        }
      ],
      "source": [
        "from sklearn.pipeline import make_pipeline\n",
        "from sklearn.preprocessing import StandardScaler\n",
        "from sklearn.svm import SVC\n",
        "from sklearn.metrics import accuracy_score\n",
        "\n",
        "poly_4_original = SVC(kernel='poly', class_weight='balanced', degree=3, C=1).fit(X_train, Y_train_4)\n",
        "poly_pred = poly_4_original.predict(X_valid)\n",
        "poly_accuracy = accuracy_score(Y_valid_4, poly_pred)\n",
        "print('Original accuracy: ', \"%.2f\" % (poly_accuracy*100))\n"
      ]
    },
    {
      "cell_type": "markdown",
      "metadata": {
        "id": "3WXqfByNkG3K"
      },
      "source": [
        "### Mutual Information"
      ]
    },
    {
      "cell_type": "code",
      "execution_count": null,
      "metadata": {
        "colab": {
          "base_uri": "https://localhost:8080/"
        },
        "id": "n-_AtUAukG3K",
        "outputId": "ab8fec13-5c2d-41b3-c22e-b29ea455ab13"
      },
      "outputs": [
        {
          "data": {
            "text/plain": [
              "feature_36     0.123839\n",
              "feature_44     0.123294\n",
              "feature_233    0.118794\n",
              "feature_113    0.103818\n",
              "feature_143    0.102030\n",
              "                 ...   \n",
              "feature_252    0.016814\n",
              "feature_192    0.015600\n",
              "feature_48     0.014513\n",
              "feature_32     0.013458\n",
              "feature_5      0.010000\n",
              "Length: 256, dtype: float64"
            ]
          },
          "execution_count": 46,
          "metadata": {},
          "output_type": "execute_result"
        }
      ],
      "source": [
        "from sklearn.feature_selection import mutual_info_classif\n",
        "\n",
        "mutual_info = mutual_info_classif(X_train, Y_train_4)\n",
        "mutual_info = pd.Series(mutual_info)\n",
        "mutual_info.index = X_train.columns\n",
        "mutual_info.sort_values(ascending=False)"
      ]
    },
    {
      "cell_type": "code",
      "execution_count": null,
      "metadata": {
        "colab": {
          "base_uri": "https://localhost:8080/"
        },
        "id": "0-hh9H2HkG3K",
        "outputId": "9f46e109-8878-47d9-e935-a6b53fdfb586"
      },
      "outputs": [
        {
          "data": {
            "text/plain": [
              "<Axes: >"
            ]
          },
          "execution_count": 47,
          "metadata": {},
          "output_type": "execute_result"
        },
        {
          "data": {
            "image/png": "[encoded data removed]",
            "text/plain": [
              "<Figure size 2000x800 with 1 Axes>"
            ]
          },
          "metadata": {},
          "output_type": "display_data"
        }
      ],
      "source": [
        "mutual_info.sort_values(ascending=False).plot.bar(figsize=(20, 8))"
      ]
    },
    {
      "cell_type": "markdown",
      "metadata": {
        "id": "lA9T1qkykG3L"
      },
      "source": [
        "#### Lets remove features with information gain less than 0.2 and calculate the acuuracy again"
      ]
    },
    {
      "cell_type": "code",
      "execution_count": null,
      "metadata": {
        "id": "UtFn_ctVkG3L"
      },
      "outputs": [],
      "source": [
        "from sklearn.feature_selection import SelectKBest\n",
        "\n",
        "# selecting features with greater than 0.25 mutual information scores\n",
        "X_train_4 = X_train.copy()\n",
        "X_valid_4 = X_valid.copy()\n",
        "feature_count_4 = mutual_info[mutual_info > 0.035].count()\n",
        "sel_five_cols_4 = SelectKBest(mutual_info_classif, k=feature_count_4)\n",
        "sel_five_cols_4.fit(X_train_4, Y_train_4)\n",
        "new_columns_4 = X_train_4.columns[sel_five_cols_4.get_support()]"
      ]
    },
    {
      "cell_type": "code",
      "execution_count": null,
      "metadata": {
        "colab": {
          "base_uri": "https://localhost:8080/"
        },
        "id": "_LFCOGYSkG3M",
        "outputId": "3ff69f5c-2756-46d4-821f-4e4dcdd2b348"
      },
      "outputs": [
        {
          "name": "stdout",
          "output_type": "stream",
          "text": [
            "Index(['feature_1', 'feature_2', 'feature_3', 'feature_4', 'feature_8',\n",
            "       'feature_11', 'feature_14', 'feature_15', 'feature_16', 'feature_19',\n",
            "       ...\n",
            "       'feature_238', 'feature_240', 'feature_241', 'feature_243',\n",
            "       'feature_244', 'feature_246', 'feature_248', 'feature_251',\n",
            "       'feature_253', 'feature_256'],\n",
            "      dtype='object', length=140)\n"
          ]
        }
      ],
      "source": [
        "print(new_columns_4)"
      ]
    },
    {
      "cell_type": "code",
      "execution_count": null,
      "metadata": {
        "colab": {
          "base_uri": "https://localhost:8080/"
        },
        "id": "7nHtDgR3kG3N",
        "outputId": "28449e68-6edb-47b3-c99e-7385cb12b7b1"
      },
      "outputs": [
        {
          "name": "stdout",
          "output_type": "stream",
          "text": [
            "140 features selected out of 260\n"
          ]
        }
      ],
      "source": [
        "print(f'{feature_count_4} features selected out of 260')"
      ]
    },
    {
      "cell_type": "code",
      "execution_count": null,
      "metadata": {
        "colab": {
          "base_uri": "https://localhost:8080/"
        },
        "id": "LZBHEGkWkG3O",
        "outputId": "de4f5965-6925-4d02-f85a-c04a011e1609"
      },
      "outputs": [
        {
          "data": {
            "text/plain": [
              "((28520, 140), (750, 140))"
            ]
          },
          "execution_count": 51,
          "metadata": {},
          "output_type": "execute_result"
        }
      ],
      "source": [
        "X_train_4 = X_train_4[new_columns_4]\n",
        "X_valid_4 = X_valid_4[new_columns_4]\n",
        "X_train_4.shape, X_valid_4.shape"
      ]
    },
    {
      "cell_type": "code",
      "execution_count": null,
      "metadata": {
        "colab": {
          "base_uri": "https://localhost:8080/"
        },
        "id": "pkvJ8XZVkG3P",
        "outputId": "f36e159f-6256-41c1-9c3f-5f9ae0d46361"
      },
      "outputs": [
        {
          "name": "stdout",
          "output_type": "stream",
          "text": [
            "New accuracy:  97.07\n"
          ]
        }
      ],
      "source": [
        "poly_4_new = SVC(kernel='poly', class_weight= 'balanced', degree=3, C=1).fit(X_train_4, Y_train_4)\n",
        "poly_pred = poly_4_new.predict(X_valid_4)\n",
        "poly_accuracy = accuracy_score(Y_valid_4, poly_pred)\n",
        "print('New accuracy: ', \"%.2f\" % (poly_accuracy*100))"
      ]
    },
    {
      "cell_type": "markdown",
      "metadata": {
        "id": "STTcb5cFkG3P"
      },
      "source": [
        "## Testing"
      ]
    },
    {
      "cell_type": "code",
      "execution_count": null,
      "metadata": {
        "id": "KRf2d-jykG3P"
      },
      "outputs": [],
      "source": [
        "test = pd.read_csv('test.csv')"
      ]
    },
    {
      "cell_type": "code",
      "execution_count": null,
      "metadata": {
        "id": "BULhjedgkG3P"
      },
      "outputs": [],
      "source": [
        "X_test = test[features]\n",
        "X_test_1 = test[new_columns_1]\n",
        "X_test_2 = test[new_columns_2]\n",
        "X_test_3 = test[new_columns_3]\n",
        "X_test_4 = test[new_columns_4]"
      ]
    },
    {
      "cell_type": "code",
      "execution_count": null,
      "metadata": {
        "id": "FlQDmn1tkG3Q"
      },
      "outputs": [],
      "source": [
        "def predict(X_test, new_columns, feature_count, model_org, model_new, filename):\n",
        "    df = pd.DataFrame()\n",
        "    X_test_new = X_test[new_columns]\n",
        "    test_org = model_org.predict(X_test)\n",
        "    df['Predicted labels before feature engineering'] = test_org\n",
        "    test_new = model_new.predict(X_test_new)\n",
        "    df['Predicted labels after feature engineering'] = test_new\n",
        "    df['No of new features'] = feature_count\n",
        "    for feature in features:\n",
        "        new_feature = 'new_' + feature\n",
        "        if feature not in new_columns:\n",
        "          df[new_feature] = pd.NA\n",
        "        else:\n",
        "          df[new_feature] = X_test[feature]\n",
        "    df.to_csv(filename, index=False)"
      ]
    },
    {
      "cell_type": "code",
      "execution_count": null,
      "metadata": {
        "colab": {
          "base_uri": "https://localhost:8080/"
        },
        "id": "a-sAeETOkG3Q",
        "outputId": "4bbd34c4-0463-4a98-c255-1bbb26045cc4"
      },
      "outputs": [],
      "source": [
        "predict(X_test, new_columns_1, feature_count_1, poly_1_original, poly_1_new, '190159D_label_1.csv')\n",
        "predict(X_test, new_columns_2, feature_count_2, poly_2_original, poly_2_new, '190159D_label_2.csv')\n",
        "predict(X_test, new_columns_3, feature_count_3, poly_3_original, poly_3_new, '190159D_label_3.csv')\n",
        "predict(X_test, new_columns_4, feature_count_4, poly_4_original, poly_4_new, '190159D_label_4.csv')"
      ]
    }
  ],
  "metadata": {
    "colab": {
      "provenance": []
    },
    "kernelspec": {
      "display_name": "Python 3",
      "language": "python",
      "name": "python3"
    },
    "language_info": {
      "codemirror_mode": {
        "name": "ipython",
        "version": 3
      },
      "file_extension": ".py",
      "mimetype": "text/x-python",
      "name": "python",
      "nbconvert_exporter": "python",
      "pygments_lexer": "ipython3",
      "version": "3.11.4"
    },
    "orig_nbformat": 4
  },
  "nbformat": 4,
  "nbformat_minor": 0
}
